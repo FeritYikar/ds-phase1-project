{
 "cells": [
  {
   "cell_type": "code",
   "execution_count": 100,
   "id": "bb750b8d",
   "metadata": {},
   "outputs": [],
   "source": [
    "import pandas as pd\n",
    "import numpy as np\n",
    "import seaborn as sns\n",
    "import matplotlib.pyplot as plt\n",
    "\n",
    "#Imdb dataset\n",
    "imdb_title_basics = pd.read_csv('data/title.basics.csv')\n",
    "imdb_title_akas = pd.read_csv('data/title.akas.csv')\n",
    "imdb_title_crew = pd.read_csv('data/title.crew.csv')\n",
    "imdb_title_principals = pd.read_csv('data/title.principals.csv')\n",
    "imdb_name_basics = pd.read_csv('data/name.basics.csv')\n",
    "imdb_title_ratings = pd.read_csv('data/title.ratings.csv')\n",
    "#Rotten tomato dataset\n",
    "rt_movie_info = pd.read_csv('data/rt.movie_info.tsv', delimiter=\"\\t\")\n",
    "rt_reviews = pd.read_csv('data/rt.reviews.tsv', delimiter=\"\\t\", encoding='latin-1')\n",
    "#Box office Mojo dataset\n",
    "bom_movie_gross = pd.read_csv('data/bom.movie_gross.csv')\n",
    "#The movies DB dataset\n",
    "tmdb_movies = pd.read_csv('data/tmdb.movies.csv')\n",
    "# The numbers dataset\n",
    "tn_movies_budgets = pd.read_csv('data/tn.movie_budgets.csv')"
   ]
  },
  {
   "cell_type": "code",
   "execution_count": 101,
   "id": "737dba2e",
   "metadata": {},
   "outputs": [],
   "source": [
    "metadeta = pd.read_csv('data/movie_metadata.csv')"
   ]
  },
  {
   "cell_type": "code",
   "execution_count": 102,
   "id": "0edd90a8",
   "metadata": {},
   "outputs": [
    {
     "data": {
      "text/html": [
       "<div>\n",
       "<style scoped>\n",
       "    .dataframe tbody tr th:only-of-type {\n",
       "        vertical-align: middle;\n",
       "    }\n",
       "\n",
       "    .dataframe tbody tr th {\n",
       "        vertical-align: top;\n",
       "    }\n",
       "\n",
       "    .dataframe thead th {\n",
       "        text-align: right;\n",
       "    }\n",
       "</style>\n",
       "<table border=\"1\" class=\"dataframe\">\n",
       "  <thead>\n",
       "    <tr style=\"text-align: right;\">\n",
       "      <th></th>\n",
       "      <th>color</th>\n",
       "      <th>director_name</th>\n",
       "      <th>num_critic_for_reviews</th>\n",
       "      <th>duration</th>\n",
       "      <th>director_facebook_likes</th>\n",
       "      <th>actor_3_facebook_likes</th>\n",
       "      <th>actor_2_name</th>\n",
       "      <th>actor_1_facebook_likes</th>\n",
       "      <th>gross</th>\n",
       "      <th>genres</th>\n",
       "      <th>...</th>\n",
       "      <th>num_user_for_reviews</th>\n",
       "      <th>language</th>\n",
       "      <th>country</th>\n",
       "      <th>content_rating</th>\n",
       "      <th>budget</th>\n",
       "      <th>title_year</th>\n",
       "      <th>actor_2_facebook_likes</th>\n",
       "      <th>imdb_score</th>\n",
       "      <th>aspect_ratio</th>\n",
       "      <th>movie_facebook_likes</th>\n",
       "    </tr>\n",
       "  </thead>\n",
       "  <tbody>\n",
       "    <tr>\n",
       "      <th>0</th>\n",
       "      <td>Color</td>\n",
       "      <td>James Cameron</td>\n",
       "      <td>723.0</td>\n",
       "      <td>178.0</td>\n",
       "      <td>0.0</td>\n",
       "      <td>855.0</td>\n",
       "      <td>Joel David Moore</td>\n",
       "      <td>1000.0</td>\n",
       "      <td>760505847.0</td>\n",
       "      <td>Action|Adventure|Fantasy|Sci-Fi</td>\n",
       "      <td>...</td>\n",
       "      <td>3054.0</td>\n",
       "      <td>English</td>\n",
       "      <td>USA</td>\n",
       "      <td>PG-13</td>\n",
       "      <td>237000000.0</td>\n",
       "      <td>2009.0</td>\n",
       "      <td>936.0</td>\n",
       "      <td>7.9</td>\n",
       "      <td>1.78</td>\n",
       "      <td>33000</td>\n",
       "    </tr>\n",
       "    <tr>\n",
       "      <th>1</th>\n",
       "      <td>Color</td>\n",
       "      <td>Gore Verbinski</td>\n",
       "      <td>302.0</td>\n",
       "      <td>169.0</td>\n",
       "      <td>563.0</td>\n",
       "      <td>1000.0</td>\n",
       "      <td>Orlando Bloom</td>\n",
       "      <td>40000.0</td>\n",
       "      <td>309404152.0</td>\n",
       "      <td>Action|Adventure|Fantasy</td>\n",
       "      <td>...</td>\n",
       "      <td>1238.0</td>\n",
       "      <td>English</td>\n",
       "      <td>USA</td>\n",
       "      <td>PG-13</td>\n",
       "      <td>300000000.0</td>\n",
       "      <td>2007.0</td>\n",
       "      <td>5000.0</td>\n",
       "      <td>7.1</td>\n",
       "      <td>2.35</td>\n",
       "      <td>0</td>\n",
       "    </tr>\n",
       "    <tr>\n",
       "      <th>2</th>\n",
       "      <td>Color</td>\n",
       "      <td>Sam Mendes</td>\n",
       "      <td>602.0</td>\n",
       "      <td>148.0</td>\n",
       "      <td>0.0</td>\n",
       "      <td>161.0</td>\n",
       "      <td>Rory Kinnear</td>\n",
       "      <td>11000.0</td>\n",
       "      <td>200074175.0</td>\n",
       "      <td>Action|Adventure|Thriller</td>\n",
       "      <td>...</td>\n",
       "      <td>994.0</td>\n",
       "      <td>English</td>\n",
       "      <td>UK</td>\n",
       "      <td>PG-13</td>\n",
       "      <td>245000000.0</td>\n",
       "      <td>2015.0</td>\n",
       "      <td>393.0</td>\n",
       "      <td>6.8</td>\n",
       "      <td>2.35</td>\n",
       "      <td>85000</td>\n",
       "    </tr>\n",
       "    <tr>\n",
       "      <th>3</th>\n",
       "      <td>Color</td>\n",
       "      <td>Christopher Nolan</td>\n",
       "      <td>813.0</td>\n",
       "      <td>164.0</td>\n",
       "      <td>22000.0</td>\n",
       "      <td>23000.0</td>\n",
       "      <td>Christian Bale</td>\n",
       "      <td>27000.0</td>\n",
       "      <td>448130642.0</td>\n",
       "      <td>Action|Thriller</td>\n",
       "      <td>...</td>\n",
       "      <td>2701.0</td>\n",
       "      <td>English</td>\n",
       "      <td>USA</td>\n",
       "      <td>PG-13</td>\n",
       "      <td>250000000.0</td>\n",
       "      <td>2012.0</td>\n",
       "      <td>23000.0</td>\n",
       "      <td>8.5</td>\n",
       "      <td>2.35</td>\n",
       "      <td>164000</td>\n",
       "    </tr>\n",
       "    <tr>\n",
       "      <th>4</th>\n",
       "      <td>NaN</td>\n",
       "      <td>Doug Walker</td>\n",
       "      <td>NaN</td>\n",
       "      <td>NaN</td>\n",
       "      <td>131.0</td>\n",
       "      <td>NaN</td>\n",
       "      <td>Rob Walker</td>\n",
       "      <td>131.0</td>\n",
       "      <td>NaN</td>\n",
       "      <td>Documentary</td>\n",
       "      <td>...</td>\n",
       "      <td>NaN</td>\n",
       "      <td>NaN</td>\n",
       "      <td>NaN</td>\n",
       "      <td>NaN</td>\n",
       "      <td>NaN</td>\n",
       "      <td>NaN</td>\n",
       "      <td>12.0</td>\n",
       "      <td>7.1</td>\n",
       "      <td>NaN</td>\n",
       "      <td>0</td>\n",
       "    </tr>\n",
       "  </tbody>\n",
       "</table>\n",
       "<p>5 rows × 28 columns</p>\n",
       "</div>"
      ],
      "text/plain": [
       "   color      director_name  num_critic_for_reviews  duration  \\\n",
       "0  Color      James Cameron                   723.0     178.0   \n",
       "1  Color     Gore Verbinski                   302.0     169.0   \n",
       "2  Color         Sam Mendes                   602.0     148.0   \n",
       "3  Color  Christopher Nolan                   813.0     164.0   \n",
       "4    NaN        Doug Walker                     NaN       NaN   \n",
       "\n",
       "   director_facebook_likes  actor_3_facebook_likes      actor_2_name  \\\n",
       "0                      0.0                   855.0  Joel David Moore   \n",
       "1                    563.0                  1000.0     Orlando Bloom   \n",
       "2                      0.0                   161.0      Rory Kinnear   \n",
       "3                  22000.0                 23000.0    Christian Bale   \n",
       "4                    131.0                     NaN        Rob Walker   \n",
       "\n",
       "   actor_1_facebook_likes        gross                           genres  ...  \\\n",
       "0                  1000.0  760505847.0  Action|Adventure|Fantasy|Sci-Fi  ...   \n",
       "1                 40000.0  309404152.0         Action|Adventure|Fantasy  ...   \n",
       "2                 11000.0  200074175.0        Action|Adventure|Thriller  ...   \n",
       "3                 27000.0  448130642.0                  Action|Thriller  ...   \n",
       "4                   131.0          NaN                      Documentary  ...   \n",
       "\n",
       "  num_user_for_reviews language  country  content_rating       budget  \\\n",
       "0               3054.0  English      USA           PG-13  237000000.0   \n",
       "1               1238.0  English      USA           PG-13  300000000.0   \n",
       "2                994.0  English       UK           PG-13  245000000.0   \n",
       "3               2701.0  English      USA           PG-13  250000000.0   \n",
       "4                  NaN      NaN      NaN             NaN          NaN   \n",
       "\n",
       "   title_year actor_2_facebook_likes imdb_score  aspect_ratio  \\\n",
       "0      2009.0                  936.0        7.9          1.78   \n",
       "1      2007.0                 5000.0        7.1          2.35   \n",
       "2      2015.0                  393.0        6.8          2.35   \n",
       "3      2012.0                23000.0        8.5          2.35   \n",
       "4         NaN                   12.0        7.1           NaN   \n",
       "\n",
       "  movie_facebook_likes  \n",
       "0                33000  \n",
       "1                    0  \n",
       "2                85000  \n",
       "3               164000  \n",
       "4                    0  \n",
       "\n",
       "[5 rows x 28 columns]"
      ]
     },
     "execution_count": 102,
     "metadata": {},
     "output_type": "execute_result"
    }
   ],
   "source": [
    "metadeta.head()"
   ]
  },
  {
   "cell_type": "code",
   "execution_count": 54,
   "id": "7cc09edf",
   "metadata": {},
   "outputs": [
    {
     "name": "stdout",
     "output_type": "stream",
     "text": [
      "<class 'pandas.core.frame.DataFrame'>\n",
      "RangeIndex: 5043 entries, 0 to 5042\n",
      "Data columns (total 28 columns):\n",
      " #   Column                     Non-Null Count  Dtype  \n",
      "---  ------                     --------------  -----  \n",
      " 0   color                      5024 non-null   object \n",
      " 1   director_name              4939 non-null   object \n",
      " 2   num_critic_for_reviews     4993 non-null   float64\n",
      " 3   duration                   5028 non-null   float64\n",
      " 4   director_facebook_likes    4939 non-null   float64\n",
      " 5   actor_3_facebook_likes     5020 non-null   float64\n",
      " 6   actor_2_name               5030 non-null   object \n",
      " 7   actor_1_facebook_likes     5036 non-null   float64\n",
      " 8   gross                      4159 non-null   float64\n",
      " 9   genres                     5043 non-null   object \n",
      " 10  actor_1_name               5036 non-null   object \n",
      " 11  movie_title                5043 non-null   object \n",
      " 12  num_voted_users            5043 non-null   int64  \n",
      " 13  cast_total_facebook_likes  5043 non-null   int64  \n",
      " 14  actor_3_name               5020 non-null   object \n",
      " 15  facenumber_in_poster       5030 non-null   float64\n",
      " 16  plot_keywords              4890 non-null   object \n",
      " 17  movie_imdb_link            5043 non-null   object \n",
      " 18  num_user_for_reviews       5022 non-null   float64\n",
      " 19  language                   5031 non-null   object \n",
      " 20  country                    5038 non-null   object \n",
      " 21  content_rating             4740 non-null   object \n",
      " 22  budget                     4551 non-null   float64\n",
      " 23  title_year                 4935 non-null   float64\n",
      " 24  actor_2_facebook_likes     5030 non-null   float64\n",
      " 25  imdb_score                 5043 non-null   float64\n",
      " 26  aspect_ratio               4714 non-null   float64\n",
      " 27  movie_facebook_likes       5043 non-null   int64  \n",
      "dtypes: float64(13), int64(3), object(12)\n",
      "memory usage: 1.1+ MB\n"
     ]
    }
   ],
   "source": [
    "metadeta.info()"
   ]
  },
  {
   "cell_type": "code",
   "execution_count": 103,
   "id": "ff9a650f",
   "metadata": {},
   "outputs": [],
   "source": [
    "metadeta = metadeta[metadeta['title_year'] > 2004]"
   ]
  },
  {
   "cell_type": "code",
   "execution_count": 104,
   "id": "5f32a974",
   "metadata": {},
   "outputs": [
    {
     "name": "stderr",
     "output_type": "stream",
     "text": [
      "C:\\Users\\01aut\\AppData\\Local\\Temp/ipykernel_1792/535792591.py:1: FutureWarning: Dropping of nuisance columns in DataFrame reductions (with 'numeric_only=None') is deprecated; in a future version this will raise TypeError.  Select only valid columns before calling the reduction.\n",
      "  metadeta.min()\n"
     ]
    },
    {
     "data": {
      "text/plain": [
       "director_name                                                    A. Raven Cruz\n",
       "num_critic_for_reviews                                                     1.0\n",
       "duration                                                                   7.0\n",
       "director_facebook_likes                                                    0.0\n",
       "actor_3_facebook_likes                                                     0.0\n",
       "actor_1_facebook_likes                                                     0.0\n",
       "gross                                                                    162.0\n",
       "genres                                                                  Action\n",
       "movie_title                                                           #Horror \n",
       "num_voted_users                                                              5\n",
       "cast_total_facebook_likes                                                    0\n",
       "facenumber_in_poster                                                       0.0\n",
       "movie_imdb_link              http://www.imdb.com/title/tt0121164/?ref_=fn_t...\n",
       "num_user_for_reviews                                                       1.0\n",
       "budget                                                                  1400.0\n",
       "title_year                                                              2005.0\n",
       "actor_2_facebook_likes                                                     0.0\n",
       "imdb_score                                                                 1.6\n",
       "aspect_ratio                                                              1.33\n",
       "movie_facebook_likes                                                         0\n",
       "dtype: object"
      ]
     },
     "execution_count": 104,
     "metadata": {},
     "output_type": "execute_result"
    }
   ],
   "source": [
    "metadeta.min()"
   ]
  },
  {
   "cell_type": "code",
   "execution_count": 105,
   "id": "3a2f82a4",
   "metadata": {},
   "outputs": [
    {
     "name": "stderr",
     "output_type": "stream",
     "text": [
      "*c* argument looks like a single numeric RGB or RGBA sequence, which should be avoided as value-mapping will have precedence in case its length matches with *x* & *y*.  Please use the *color* keyword-argument or provide a 2D array with a single row if you intend to specify the same RGB or RGBA value for all points.\n"
     ]
    },
    {
     "data": {
      "text/plain": [
       "<AxesSubplot:xlabel='movie_facebook_likes', ylabel='gross'>"
      ]
     },
     "execution_count": 105,
     "metadata": {},
     "output_type": "execute_result"
    },
    {
     "data": {
      "image/png": "[encoded data removed]",
      "text/plain": [
       "<Figure size 432x288 with 1 Axes>"
      ]
     },
     "metadata": {},
     "output_type": "display_data"
    }
   ],
   "source": [
    "metadeta.plot.scatter('movie_facebook_likes', 'gross' )"
   ]
  },
  {
   "cell_type": "code",
   "execution_count": 106,
   "id": "985806a6",
   "metadata": {},
   "outputs": [
    {
     "data": {
      "text/plain": [
       "facenumber_in_poster        -0.024948\n",
       "aspect_ratio                 0.036908\n",
       "budget                       0.099176\n",
       "title_year                   0.119689\n",
       "director_facebook_likes      0.174836\n",
       "imdb_score                   0.197884\n",
       "actor_1_facebook_likes       0.199291\n",
       "actor_2_facebook_likes       0.299579\n",
       "cast_total_facebook_likes    0.318170\n",
       "duration                     0.324626\n",
       "actor_3_facebook_likes       0.362785\n",
       "movie_facebook_likes         0.455585\n",
       "num_critic_for_reviews       0.557206\n",
       "num_user_for_reviews         0.628843\n",
       "num_voted_users              0.698520\n",
       "gross                        1.000000\n",
       "Name: gross, dtype: float64"
      ]
     },
     "execution_count": 106,
     "metadata": {},
     "output_type": "execute_result"
    }
   ],
   "source": [
    "metadeta.corr()[\"gross\"].sort_values()"
   ]
  },
  {
   "cell_type": "code",
   "execution_count": null,
   "id": "2819bc6a",
   "metadata": {},
   "outputs": [],
   "source": []
  },
  {
   "cell_type": "code",
   "execution_count": null,
   "id": "2204195c",
   "metadata": {},
   "outputs": [],
   "source": [
    "metadeta.plot.scatter('director_facebook_likes', 'gross' )"
   ]
  },
  {
   "cell_type": "code",
   "execution_count": null,
   "id": "04044205",
   "metadata": {},
   "outputs": [],
   "source": [
    "metadeta.plot.scatter('actor_3_facebook_likes' , 'gross' )"
   ]
  },
  {
   "cell_type": "code",
   "execution_count": null,
   "id": "04ccbb26",
   "metadata": {},
   "outputs": [],
   "source": [
    "metadeta.plot.scatter('actor_1_facebook_likes' , 'gross' )"
   ]
  },
  {
   "cell_type": "code",
   "execution_count": null,
   "id": "93a623f3",
   "metadata": {},
   "outputs": [],
   "source": [
    "metadeta.plot.scatter('actor_2_facebook_likes' , 'gross' )"
   ]
  },
  {
   "cell_type": "code",
   "execution_count": 107,
   "id": "f4963ed5",
   "metadata": {},
   "outputs": [],
   "source": [
    "metadeta['combined_likes'] = metadeta['actor_2_facebook_likes'] + metadeta['actor_1_facebook_likes'] + metadeta['actor_3_facebook_likes'] + metadeta['director_facebook_likes'] "
   ]
  },
  {
   "cell_type": "code",
   "execution_count": 8,
   "id": "8289a64e",
   "metadata": {},
   "outputs": [
    {
     "data": {
      "text/plain": [
       "<AxesSubplot:xlabel='combined_likes', ylabel='gross'>"
      ]
     },
     "execution_count": 8,
     "metadata": {},
     "output_type": "execute_result"
    },
    {
     "data": {
      "image/png": "[encoded data removed]",
      "text/plain": [
       "<Figure size 432x288 with 1 Axes>"
      ]
     },
     "metadata": {
      "needs_background": "light"
     },
     "output_type": "display_data"
    }
   ],
   "source": [
    "metadeta.plot.scatter('combined_likes' , 'gross' )"
   ]
  },
  {
   "cell_type": "code",
   "execution_count": 108,
   "id": "ed0ea861",
   "metadata": {},
   "outputs": [],
   "source": [
    "metadeta['combined_likes_movie'] = metadeta['actor_2_facebook_likes'] + metadeta['actor_1_facebook_likes'] + metadeta['actor_3_facebook_likes'] + metadeta['director_facebook_likes'] + metadeta['movie_facebook_likes'] "
   ]
  },
  {
   "cell_type": "code",
   "execution_count": 10,
   "id": "89641b97",
   "metadata": {},
   "outputs": [
    {
     "data": {
      "text/plain": [
       "facenumber_in_poster        -0.024948\n",
       "aspect_ratio                 0.036908\n",
       "budget                       0.099176\n",
       "title_year                   0.119689\n",
       "director_facebook_likes      0.174836\n",
       "imdb_score                   0.197884\n",
       "actor_1_facebook_likes       0.199291\n",
       "actor_2_facebook_likes       0.299579\n",
       "combined_likes               0.302755\n",
       "cast_total_facebook_likes    0.318170\n",
       "duration                     0.324626\n",
       "actor_3_facebook_likes       0.362785\n",
       "movie_facebook_likes         0.455585\n",
       "combined_likes_movie         0.489832\n",
       "num_critic_for_reviews       0.557206\n",
       "num_user_for_reviews         0.628843\n",
       "num_voted_users              0.698520\n",
       "gross                        1.000000\n",
       "Name: gross, dtype: float64"
      ]
     },
     "execution_count": 10,
     "metadata": {},
     "output_type": "execute_result"
    }
   ],
   "source": [
    "metadeta.corr()[\"gross\"].sort_values()"
   ]
  },
  {
   "cell_type": "code",
   "execution_count": 11,
   "id": "51763c38",
   "metadata": {},
   "outputs": [
    {
     "data": {
      "text/plain": [
       "<AxesSubplot:xlabel='combined_likes_movie', ylabel='gross'>"
      ]
     },
     "execution_count": 11,
     "metadata": {},
     "output_type": "execute_result"
    },
    {
     "data": {
      "image/png": "[encoded data removed]",
      "text/plain": [
       "<Figure size 432x288 with 1 Axes>"
      ]
     },
     "metadata": {
      "needs_background": "light"
     },
     "output_type": "display_data"
    }
   ],
   "source": [
    "metadeta.plot.scatter('combined_likes_movie' , 'gross' )"
   ]
  },
  {
   "cell_type": "code",
   "execution_count": 12,
   "id": "1eb99faa",
   "metadata": {},
   "outputs": [
    {
     "name": "stdout",
     "output_type": "stream",
     "text": [
      "<class 'pandas.core.frame.DataFrame'>\n",
      "Int64Index: 2646 entries, 0 to 5041\n",
      "Data columns (total 30 columns):\n",
      " #   Column                     Non-Null Count  Dtype  \n",
      "---  ------                     --------------  -----  \n",
      " 0   color                      2632 non-null   object \n",
      " 1   director_name              2646 non-null   object \n",
      " 2   num_critic_for_reviews     2610 non-null   float64\n",
      " 3   duration                   2635 non-null   float64\n",
      " 4   director_facebook_likes    2646 non-null   float64\n",
      " 5   actor_3_facebook_likes     2634 non-null   float64\n",
      " 6   actor_2_name               2638 non-null   object \n",
      " 7   actor_1_facebook_likes     2641 non-null   float64\n",
      " 8   gross                      2156 non-null   float64\n",
      " 9   genres                     2646 non-null   object \n",
      " 10  actor_1_name               2641 non-null   object \n",
      " 11  movie_title                2646 non-null   object \n",
      " 12  num_voted_users            2646 non-null   int64  \n",
      " 13  cast_total_facebook_likes  2646 non-null   int64  \n",
      " 14  actor_3_name               2634 non-null   object \n",
      " 15  facenumber_in_poster       2633 non-null   float64\n",
      " 16  plot_keywords              2511 non-null   object \n",
      " 17  movie_imdb_link            2646 non-null   object \n",
      " 18  num_user_for_reviews       2631 non-null   float64\n",
      " 19  language                   2641 non-null   object \n",
      " 20  country                    2645 non-null   object \n",
      " 21  content_rating             2432 non-null   object \n",
      " 22  budget                     2360 non-null   float64\n",
      " 23  title_year                 2646 non-null   float64\n",
      " 24  actor_2_facebook_likes     2638 non-null   float64\n",
      " 25  imdb_score                 2646 non-null   float64\n",
      " 26  aspect_ratio               2392 non-null   float64\n",
      " 27  movie_facebook_likes       2646 non-null   int64  \n",
      " 28  combined_likes             2634 non-null   float64\n",
      " 29  combined_likes_movie       2634 non-null   float64\n",
      "dtypes: float64(15), int64(3), object(12)\n",
      "memory usage: 640.8+ KB\n"
     ]
    }
   ],
   "source": [
    "metadeta.info()"
   ]
  },
  {
   "cell_type": "code",
   "execution_count": 109,
   "id": "f7129e87-f470-4747-9d6b-5db4d5f06c33",
   "metadata": {},
   "outputs": [
    {
     "data": {
      "text/plain": [
       "<AxesSubplot:xlabel='combined_likes_movie', ylabel='gross'>"
      ]
     },
     "execution_count": 109,
     "metadata": {},
     "output_type": "execute_result"
    },
    {
     "data": {
      "image/png": "[encoded data removed]",
      "text/plain": [
       "<Figure size 432x432 with 1 Axes>"
      ]
     },
     "metadata": {},
     "output_type": "display_data"
    }
   ],
   "source": [
    "\n",
    "sns.set_theme(style=\"dark\")\n",
    "\n",
    "f, ax = plt.subplots(figsize=(6, 6))\n",
    "sns.scatterplot(x= metadeta['combined_likes_movie'], y= metadeta['gross'])\n"
   ]
  },
  {
   "cell_type": "code",
   "execution_count": null,
   "id": "bf9896a8-5ea8-4694-831a-2bdf14085172",
   "metadata": {},
   "outputs": [],
   "source": [
    "f, ax = plt.subplots(figsize=(6, 6))\n",
    "sns.scatterplot(x= metadeta['combined_likes_movie'], y= metadeta['gross'])"
   ]
  },
  {
   "cell_type": "code",
   "execution_count": 110,
   "id": "fb080acc",
   "metadata": {},
   "outputs": [
    {
     "data": {
      "text/plain": [
       "<AxesSubplot:xlabel='combined_likes_movie', ylabel='gross'>"
      ]
     },
     "execution_count": 110,
     "metadata": {},
     "output_type": "execute_result"
    },
    {
     "data": {
      "image/png": "[encoded data removed]",
      "text/plain": [
       "<Figure size 432x432 with 1 Axes>"
      ]
     },
     "metadata": {},
     "output_type": "display_data"
    }
   ],
   "source": [
    "f, ax = plt.subplots(figsize=(6, 6))\n",
    "sns.kdeplot(x= metadeta['combined_likes_movie'], y= metadeta['gross'])"
   ]
  },
  {
   "cell_type": "code",
   "execution_count": 112,
   "id": "ad0e337b-d7d6-4342-810b-12c10053b7dd",
   "metadata": {},
   "outputs": [
    {
     "ename": "TypeError",
     "evalue": "heatmap() missing 1 required positional argument: 'data'",
     "output_type": "error",
     "traceback": [
      "\u001b[1;31m---------------------------------------------------------------------------\u001b[0m",
      "\u001b[1;31mTypeError\u001b[0m                                 Traceback (most recent call last)",
      "\u001b[1;32m~\\AppData\\Local\\Temp/ipykernel_1792/2911647580.py\u001b[0m in \u001b[0;36m<module>\u001b[1;34m\u001b[0m\n\u001b[0;32m      2\u001b[0m \u001b[1;33m\u001b[0m\u001b[0m\n\u001b[0;32m      3\u001b[0m \u001b[0mf\u001b[0m\u001b[1;33m,\u001b[0m \u001b[0max\u001b[0m \u001b[1;33m=\u001b[0m \u001b[0mplt\u001b[0m\u001b[1;33m.\u001b[0m\u001b[0msubplots\u001b[0m\u001b[1;33m(\u001b[0m\u001b[0mfigsize\u001b[0m\u001b[1;33m=\u001b[0m\u001b[1;33m(\u001b[0m\u001b[1;36m6\u001b[0m\u001b[1;33m,\u001b[0m \u001b[1;36m6\u001b[0m\u001b[1;33m)\u001b[0m\u001b[1;33m)\u001b[0m\u001b[1;33m\u001b[0m\u001b[1;33m\u001b[0m\u001b[0m\n\u001b[1;32m----> 4\u001b[1;33m \u001b[0msns\u001b[0m\u001b[1;33m.\u001b[0m\u001b[0mheatmap\u001b[0m\u001b[1;33m(\u001b[0m\u001b[0mx\u001b[0m\u001b[1;33m=\u001b[0m \u001b[0mmetadeta\u001b[0m\u001b[1;33m[\u001b[0m\u001b[1;34m'combined_likes_movie'\u001b[0m\u001b[1;33m]\u001b[0m\u001b[1;33m,\u001b[0m \u001b[0my\u001b[0m\u001b[1;33m=\u001b[0m \u001b[0mmetadeta\u001b[0m\u001b[1;33m[\u001b[0m\u001b[1;34m'gross'\u001b[0m\u001b[1;33m]\u001b[0m\u001b[1;33m)\u001b[0m\u001b[1;33m\u001b[0m\u001b[1;33m\u001b[0m\u001b[0m\n\u001b[0m",
      "\u001b[1;32m~\\anaconda3\\lib\\site-packages\\seaborn\\_decorators.py\u001b[0m in \u001b[0;36minner_f\u001b[1;34m(*args, **kwargs)\u001b[0m\n\u001b[0;32m     44\u001b[0m             )\n\u001b[0;32m     45\u001b[0m         \u001b[0mkwargs\u001b[0m\u001b[1;33m.\u001b[0m\u001b[0mupdate\u001b[0m\u001b[1;33m(\u001b[0m\u001b[1;33m{\u001b[0m\u001b[0mk\u001b[0m\u001b[1;33m:\u001b[0m \u001b[0marg\u001b[0m \u001b[1;32mfor\u001b[0m \u001b[0mk\u001b[0m\u001b[1;33m,\u001b[0m \u001b[0marg\u001b[0m \u001b[1;32min\u001b[0m \u001b[0mzip\u001b[0m\u001b[1;33m(\u001b[0m\u001b[0msig\u001b[0m\u001b[1;33m.\u001b[0m\u001b[0mparameters\u001b[0m\u001b[1;33m,\u001b[0m \u001b[0margs\u001b[0m\u001b[1;33m)\u001b[0m\u001b[1;33m}\u001b[0m\u001b[1;33m)\u001b[0m\u001b[1;33m\u001b[0m\u001b[1;33m\u001b[0m\u001b[0m\n\u001b[1;32m---> 46\u001b[1;33m         \u001b[1;32mreturn\u001b[0m \u001b[0mf\u001b[0m\u001b[1;33m(\u001b[0m\u001b[1;33m**\u001b[0m\u001b[0mkwargs\u001b[0m\u001b[1;33m)\u001b[0m\u001b[1;33m\u001b[0m\u001b[1;33m\u001b[0m\u001b[0m\n\u001b[0m\u001b[0;32m     47\u001b[0m     \u001b[1;32mreturn\u001b[0m \u001b[0minner_f\u001b[0m\u001b[1;33m\u001b[0m\u001b[1;33m\u001b[0m\u001b[0m\n\u001b[0;32m     48\u001b[0m \u001b[1;33m\u001b[0m\u001b[0m\n",
      "\u001b[1;31mTypeError\u001b[0m: heatmap() missing 1 required positional argument: 'data'"
     ]
    },
    {
     "data": {
      "image/png": "[encoded data removed]",
      "text/plain": [
       "<Figure size 432x432 with 1 Axes>"
      ]
     },
     "metadata": {},
     "output_type": "display_data"
    }
   ],
   "source": [
    "sns.set_theme()\n",
    "\n",
    "f, ax = plt.subplots(figsize=(6, 6))\n",
    "sns.heatmap(x= metadeta['combined_likes_movie'], y= metadeta['gross'])"
   ]
  },
  {
   "cell_type": "code",
   "execution_count": 55,
   "id": "9453ff60",
   "metadata": {},
   "outputs": [
    {
     "data": {
      "text/html": [
       "<div>\n",
       "<style scoped>\n",
       "    .dataframe tbody tr th:only-of-type {\n",
       "        vertical-align: middle;\n",
       "    }\n",
       "\n",
       "    .dataframe tbody tr th {\n",
       "        vertical-align: top;\n",
       "    }\n",
       "\n",
       "    .dataframe thead th {\n",
       "        text-align: right;\n",
       "    }\n",
       "</style>\n",
       "<table border=\"1\" class=\"dataframe\">\n",
       "  <thead>\n",
       "    <tr style=\"text-align: right;\">\n",
       "      <th></th>\n",
       "      <th>title</th>\n",
       "      <th>studio</th>\n",
       "      <th>domestic_gross</th>\n",
       "      <th>foreign_gross</th>\n",
       "      <th>year</th>\n",
       "    </tr>\n",
       "  </thead>\n",
       "  <tbody>\n",
       "    <tr>\n",
       "      <th>0</th>\n",
       "      <td>Toy Story 3</td>\n",
       "      <td>BV</td>\n",
       "      <td>415000000.0</td>\n",
       "      <td>652000000</td>\n",
       "      <td>2010</td>\n",
       "    </tr>\n",
       "    <tr>\n",
       "      <th>1</th>\n",
       "      <td>Alice in Wonderland (2010)</td>\n",
       "      <td>BV</td>\n",
       "      <td>334200000.0</td>\n",
       "      <td>691300000</td>\n",
       "      <td>2010</td>\n",
       "    </tr>\n",
       "    <tr>\n",
       "      <th>2</th>\n",
       "      <td>Harry Potter and the Deathly Hallows Part 1</td>\n",
       "      <td>WB</td>\n",
       "      <td>296000000.0</td>\n",
       "      <td>664300000</td>\n",
       "      <td>2010</td>\n",
       "    </tr>\n",
       "    <tr>\n",
       "      <th>3</th>\n",
       "      <td>Inception</td>\n",
       "      <td>WB</td>\n",
       "      <td>292600000.0</td>\n",
       "      <td>535700000</td>\n",
       "      <td>2010</td>\n",
       "    </tr>\n",
       "    <tr>\n",
       "      <th>4</th>\n",
       "      <td>Shrek Forever After</td>\n",
       "      <td>P/DW</td>\n",
       "      <td>238700000.0</td>\n",
       "      <td>513900000</td>\n",
       "      <td>2010</td>\n",
       "    </tr>\n",
       "  </tbody>\n",
       "</table>\n",
       "</div>"
      ],
      "text/plain": [
       "                                         title studio  domestic_gross  \\\n",
       "0                                  Toy Story 3     BV     415000000.0   \n",
       "1                   Alice in Wonderland (2010)     BV     334200000.0   \n",
       "2  Harry Potter and the Deathly Hallows Part 1     WB     296000000.0   \n",
       "3                                    Inception     WB     292600000.0   \n",
       "4                          Shrek Forever After   P/DW     238700000.0   \n",
       "\n",
       "  foreign_gross  year  \n",
       "0     652000000  2010  \n",
       "1     691300000  2010  \n",
       "2     664300000  2010  \n",
       "3     535700000  2010  \n",
       "4     513900000  2010  "
      ]
     },
     "execution_count": 55,
     "metadata": {},
     "output_type": "execute_result"
    }
   ],
   "source": [
    "bom_movie_gross.head()"
   ]
  },
  {
   "cell_type": "code",
   "execution_count": null,
   "id": "b8e34395-a118-4308-b7aa-98de5126ecd0",
   "metadata": {},
   "outputs": [],
   "source": []
  },
  {
   "cell_type": "code",
   "execution_count": 56,
   "id": "695b48d1",
   "metadata": {},
   "outputs": [
    {
     "data": {
      "text/html": [
       "<div>\n",
       "<style scoped>\n",
       "    .dataframe tbody tr th:only-of-type {\n",
       "        vertical-align: middle;\n",
       "    }\n",
       "\n",
       "    .dataframe tbody tr th {\n",
       "        vertical-align: top;\n",
       "    }\n",
       "\n",
       "    .dataframe thead th {\n",
       "        text-align: right;\n",
       "    }\n",
       "</style>\n",
       "<table border=\"1\" class=\"dataframe\">\n",
       "  <thead>\n",
       "    <tr style=\"text-align: right;\">\n",
       "      <th></th>\n",
       "      <th>tconst</th>\n",
       "      <th>primary_title</th>\n",
       "      <th>original_title</th>\n",
       "      <th>start_year</th>\n",
       "      <th>runtime_minutes</th>\n",
       "      <th>genres</th>\n",
       "    </tr>\n",
       "  </thead>\n",
       "  <tbody>\n",
       "    <tr>\n",
       "      <th>0</th>\n",
       "      <td>tt0063540</td>\n",
       "      <td>Sunghursh</td>\n",
       "      <td>Sunghursh</td>\n",
       "      <td>2013</td>\n",
       "      <td>175.0</td>\n",
       "      <td>Action,Crime,Drama</td>\n",
       "    </tr>\n",
       "    <tr>\n",
       "      <th>1</th>\n",
       "      <td>tt0066787</td>\n",
       "      <td>One Day Before the Rainy Season</td>\n",
       "      <td>Ashad Ka Ek Din</td>\n",
       "      <td>2019</td>\n",
       "      <td>114.0</td>\n",
       "      <td>Biography,Drama</td>\n",
       "    </tr>\n",
       "    <tr>\n",
       "      <th>2</th>\n",
       "      <td>tt0069049</td>\n",
       "      <td>The Other Side of the Wind</td>\n",
       "      <td>The Other Side of the Wind</td>\n",
       "      <td>2018</td>\n",
       "      <td>122.0</td>\n",
       "      <td>Drama</td>\n",
       "    </tr>\n",
       "    <tr>\n",
       "      <th>3</th>\n",
       "      <td>tt0069204</td>\n",
       "      <td>Sabse Bada Sukh</td>\n",
       "      <td>Sabse Bada Sukh</td>\n",
       "      <td>2018</td>\n",
       "      <td>NaN</td>\n",
       "      <td>Comedy,Drama</td>\n",
       "    </tr>\n",
       "    <tr>\n",
       "      <th>4</th>\n",
       "      <td>tt0100275</td>\n",
       "      <td>The Wandering Soap Opera</td>\n",
       "      <td>La Telenovela Errante</td>\n",
       "      <td>2017</td>\n",
       "      <td>80.0</td>\n",
       "      <td>Comedy,Drama,Fantasy</td>\n",
       "    </tr>\n",
       "  </tbody>\n",
       "</table>\n",
       "</div>"
      ],
      "text/plain": [
       "      tconst                    primary_title              original_title  \\\n",
       "0  tt0063540                        Sunghursh                   Sunghursh   \n",
       "1  tt0066787  One Day Before the Rainy Season             Ashad Ka Ek Din   \n",
       "2  tt0069049       The Other Side of the Wind  The Other Side of the Wind   \n",
       "3  tt0069204                  Sabse Bada Sukh             Sabse Bada Sukh   \n",
       "4  tt0100275         The Wandering Soap Opera       La Telenovela Errante   \n",
       "\n",
       "   start_year  runtime_minutes                genres  \n",
       "0        2013            175.0    Action,Crime,Drama  \n",
       "1        2019            114.0       Biography,Drama  \n",
       "2        2018            122.0                 Drama  \n",
       "3        2018              NaN          Comedy,Drama  \n",
       "4        2017             80.0  Comedy,Drama,Fantasy  "
      ]
     },
     "execution_count": 56,
     "metadata": {},
     "output_type": "execute_result"
    }
   ],
   "source": [
    "imdb_title_basics.head()"
   ]
  },
  {
   "cell_type": "code",
   "execution_count": 57,
   "id": "2c3e60ba",
   "metadata": {},
   "outputs": [],
   "source": [
    "imdb_title_basics['primary_title'] = imdb_title_basics['primary_title'].apply(lambda x: x.lower())\n",
    "imdb_title_basics['primary_title'] = imdb_title_basics['primary_title'].apply(lambda x: x.replace(',',''))"
   ]
  },
  {
   "cell_type": "code",
   "execution_count": 58,
   "id": "55b7f446",
   "metadata": {},
   "outputs": [
    {
     "name": "stdout",
     "output_type": "stream",
     "text": [
      "<class 'pandas.core.frame.DataFrame'>\n",
      "RangeIndex: 146144 entries, 0 to 146143\n",
      "Data columns (total 6 columns):\n",
      " #   Column           Non-Null Count   Dtype  \n",
      "---  ------           --------------   -----  \n",
      " 0   tconst           146144 non-null  object \n",
      " 1   primary_title    146144 non-null  object \n",
      " 2   original_title   146123 non-null  object \n",
      " 3   start_year       146144 non-null  int64  \n",
      " 4   runtime_minutes  114405 non-null  float64\n",
      " 5   genres           140736 non-null  object \n",
      "dtypes: float64(1), int64(1), object(4)\n",
      "memory usage: 6.7+ MB\n"
     ]
    }
   ],
   "source": [
    "imdb_title_basics.info()"
   ]
  },
  {
   "cell_type": "code",
   "execution_count": null,
   "id": "f77125e9-108b-40ad-9171-4004daa6fc83",
   "metadata": {},
   "outputs": [],
   "source": []
  },
  {
   "cell_type": "code",
   "execution_count": 45,
   "id": "c164fd6e",
   "metadata": {},
   "outputs": [
    {
     "data": {
      "text/html": [
       "<div>\n",
       "<style scoped>\n",
       "    .dataframe tbody tr th:only-of-type {\n",
       "        vertical-align: middle;\n",
       "    }\n",
       "\n",
       "    .dataframe tbody tr th {\n",
       "        vertical-align: top;\n",
       "    }\n",
       "\n",
       "    .dataframe thead th {\n",
       "        text-align: right;\n",
       "    }\n",
       "</style>\n",
       "<table border=\"1\" class=\"dataframe\">\n",
       "  <thead>\n",
       "    <tr style=\"text-align: right;\">\n",
       "      <th></th>\n",
       "      <th>id</th>\n",
       "      <th>release_date</th>\n",
       "      <th>movie</th>\n",
       "      <th>production_budget</th>\n",
       "      <th>domestic_gross</th>\n",
       "      <th>worldwide_gross</th>\n",
       "    </tr>\n",
       "  </thead>\n",
       "  <tbody>\n",
       "    <tr>\n",
       "      <th>0</th>\n",
       "      <td>1</td>\n",
       "      <td>Dec 18, 2009</td>\n",
       "      <td>avatar</td>\n",
       "      <td>$425,000,000</td>\n",
       "      <td>$760,507,625</td>\n",
       "      <td>$2,776,345,279</td>\n",
       "    </tr>\n",
       "    <tr>\n",
       "      <th>1</th>\n",
       "      <td>2</td>\n",
       "      <td>May 20, 2011</td>\n",
       "      <td>pirates of the caribbean: on stranger tides</td>\n",
       "      <td>$410,600,000</td>\n",
       "      <td>$241,063,875</td>\n",
       "      <td>$1,045,663,875</td>\n",
       "    </tr>\n",
       "    <tr>\n",
       "      <th>2</th>\n",
       "      <td>3</td>\n",
       "      <td>Jun 7, 2019</td>\n",
       "      <td>dark phoenix</td>\n",
       "      <td>$350,000,000</td>\n",
       "      <td>$42,762,350</td>\n",
       "      <td>$149,762,350</td>\n",
       "    </tr>\n",
       "    <tr>\n",
       "      <th>3</th>\n",
       "      <td>4</td>\n",
       "      <td>May 1, 2015</td>\n",
       "      <td>avengers: age of ultron</td>\n",
       "      <td>$330,600,000</td>\n",
       "      <td>$459,005,868</td>\n",
       "      <td>$1,403,013,963</td>\n",
       "    </tr>\n",
       "    <tr>\n",
       "      <th>4</th>\n",
       "      <td>5</td>\n",
       "      <td>Dec 15, 2017</td>\n",
       "      <td>star wars ep. viii: the last jedi</td>\n",
       "      <td>$317,000,000</td>\n",
       "      <td>$620,181,382</td>\n",
       "      <td>$1,316,721,747</td>\n",
       "    </tr>\n",
       "  </tbody>\n",
       "</table>\n",
       "</div>"
      ],
      "text/plain": [
       "   id  release_date                                        movie  \\\n",
       "0   1  Dec 18, 2009                                       avatar   \n",
       "1   2  May 20, 2011  pirates of the caribbean: on stranger tides   \n",
       "2   3   Jun 7, 2019                                 dark phoenix   \n",
       "3   4   May 1, 2015                      avengers: age of ultron   \n",
       "4   5  Dec 15, 2017            star wars ep. viii: the last jedi   \n",
       "\n",
       "  production_budget domestic_gross worldwide_gross  \n",
       "0      $425,000,000   $760,507,625  $2,776,345,279  \n",
       "1      $410,600,000   $241,063,875  $1,045,663,875  \n",
       "2      $350,000,000    $42,762,350    $149,762,350  \n",
       "3      $330,600,000   $459,005,868  $1,403,013,963  \n",
       "4      $317,000,000   $620,181,382  $1,316,721,747  "
      ]
     },
     "execution_count": 45,
     "metadata": {},
     "output_type": "execute_result"
    }
   ],
   "source": [
    "tn_movies_budgets.head()"
   ]
  },
  {
   "cell_type": "code",
   "execution_count": 59,
   "id": "8049bedd",
   "metadata": {},
   "outputs": [],
   "source": [
    "tn_movies_budgets['movie'] = tn_movies_budgets['movie'].apply(lambda x: x.lower())\n",
    "tn_movies_budgets['movie'] = tn_movies_budgets['movie'].apply(lambda x: x.replace(',',''))\n",
    "\n",
    "tn_movies_budgets['production_budget'] = tn_movies_budgets['production_budget'].apply(lambda x: x.replace(',', ''))\n",
    "tn_movies_budgets['production_budget'] = tn_movies_budgets['production_budget'].apply(lambda x: x.replace('$', ''))\n",
    "tn_movies_budgets['production_budget'] = tn_movies_budgets['production_budget'].astype(int)\n",
    "\n",
    "\n",
    "tn_movies_budgets['domestic_gross'] = tn_movies_budgets['domestic_gross'].apply(lambda x: x.replace(',', ''))\n",
    "tn_movies_budgets['domestic_gross'] = tn_movies_budgets['domestic_gross'].apply(lambda x: x.replace('$', ''))\n",
    "tn_movies_budgets['domestic_gross'] = tn_movies_budgets['domestic_gross'].astype(int)\n",
    "\n",
    "tn_movies_budgets['worldwide_gross'] = tn_movies_budgets['worldwide_gross'].apply(lambda x: x.replace(',', ''))\n",
    "tn_movies_budgets['worldwide_gross'] = tn_movies_budgets['worldwide_gross'].apply(lambda x: x.replace('$', ''))\n",
    "tn_movies_budgets['worldwide_gross'] = tn_movies_budgets['worldwide_gross'].astype(float)\n",
    "\n",
    "tn_movies_budgets[\"release_date\"] = tn_movies_budgets[\"release_date\"].apply(lambda x: x[-4:])\n",
    "tn_movies_budgets[\"release_date\"] = tn_movies_budgets[\"release_date\"].astype(int)"
   ]
  },
  {
   "cell_type": "code",
   "execution_count": 60,
   "id": "9e5ccf7c",
   "metadata": {},
   "outputs": [
    {
     "data": {
      "text/html": [
       "<div>\n",
       "<style scoped>\n",
       "    .dataframe tbody tr th:only-of-type {\n",
       "        vertical-align: middle;\n",
       "    }\n",
       "\n",
       "    .dataframe tbody tr th {\n",
       "        vertical-align: top;\n",
       "    }\n",
       "\n",
       "    .dataframe thead th {\n",
       "        text-align: right;\n",
       "    }\n",
       "</style>\n",
       "<table border=\"1\" class=\"dataframe\">\n",
       "  <thead>\n",
       "    <tr style=\"text-align: right;\">\n",
       "      <th></th>\n",
       "      <th>id</th>\n",
       "      <th>release_date</th>\n",
       "      <th>movie</th>\n",
       "      <th>production_budget</th>\n",
       "      <th>domestic_gross</th>\n",
       "      <th>worldwide_gross</th>\n",
       "    </tr>\n",
       "  </thead>\n",
       "  <tbody>\n",
       "    <tr>\n",
       "      <th>0</th>\n",
       "      <td>1</td>\n",
       "      <td>2009</td>\n",
       "      <td>avatar</td>\n",
       "      <td>425000000</td>\n",
       "      <td>760507625</td>\n",
       "      <td>2.776345e+09</td>\n",
       "    </tr>\n",
       "    <tr>\n",
       "      <th>1</th>\n",
       "      <td>2</td>\n",
       "      <td>2011</td>\n",
       "      <td>pirates of the caribbean: on stranger tides</td>\n",
       "      <td>410600000</td>\n",
       "      <td>241063875</td>\n",
       "      <td>1.045664e+09</td>\n",
       "    </tr>\n",
       "    <tr>\n",
       "      <th>2</th>\n",
       "      <td>3</td>\n",
       "      <td>2019</td>\n",
       "      <td>dark phoenix</td>\n",
       "      <td>350000000</td>\n",
       "      <td>42762350</td>\n",
       "      <td>1.497624e+08</td>\n",
       "    </tr>\n",
       "    <tr>\n",
       "      <th>3</th>\n",
       "      <td>4</td>\n",
       "      <td>2015</td>\n",
       "      <td>avengers: age of ultron</td>\n",
       "      <td>330600000</td>\n",
       "      <td>459005868</td>\n",
       "      <td>1.403014e+09</td>\n",
       "    </tr>\n",
       "    <tr>\n",
       "      <th>4</th>\n",
       "      <td>5</td>\n",
       "      <td>2017</td>\n",
       "      <td>star wars ep. viii: the last jedi</td>\n",
       "      <td>317000000</td>\n",
       "      <td>620181382</td>\n",
       "      <td>1.316722e+09</td>\n",
       "    </tr>\n",
       "    <tr>\n",
       "      <th>...</th>\n",
       "      <td>...</td>\n",
       "      <td>...</td>\n",
       "      <td>...</td>\n",
       "      <td>...</td>\n",
       "      <td>...</td>\n",
       "      <td>...</td>\n",
       "    </tr>\n",
       "    <tr>\n",
       "      <th>5777</th>\n",
       "      <td>78</td>\n",
       "      <td>2018</td>\n",
       "      <td>red 11</td>\n",
       "      <td>7000</td>\n",
       "      <td>0</td>\n",
       "      <td>0.000000e+00</td>\n",
       "    </tr>\n",
       "    <tr>\n",
       "      <th>5778</th>\n",
       "      <td>79</td>\n",
       "      <td>1999</td>\n",
       "      <td>following</td>\n",
       "      <td>6000</td>\n",
       "      <td>48482</td>\n",
       "      <td>2.404950e+05</td>\n",
       "    </tr>\n",
       "    <tr>\n",
       "      <th>5779</th>\n",
       "      <td>80</td>\n",
       "      <td>2005</td>\n",
       "      <td>return to the land of wonders</td>\n",
       "      <td>5000</td>\n",
       "      <td>1338</td>\n",
       "      <td>1.338000e+03</td>\n",
       "    </tr>\n",
       "    <tr>\n",
       "      <th>5780</th>\n",
       "      <td>81</td>\n",
       "      <td>2015</td>\n",
       "      <td>a plague so pleasant</td>\n",
       "      <td>1400</td>\n",
       "      <td>0</td>\n",
       "      <td>0.000000e+00</td>\n",
       "    </tr>\n",
       "    <tr>\n",
       "      <th>5781</th>\n",
       "      <td>82</td>\n",
       "      <td>2005</td>\n",
       "      <td>my date with drew</td>\n",
       "      <td>1100</td>\n",
       "      <td>181041</td>\n",
       "      <td>1.810410e+05</td>\n",
       "    </tr>\n",
       "  </tbody>\n",
       "</table>\n",
       "<p>5782 rows × 6 columns</p>\n",
       "</div>"
      ],
      "text/plain": [
       "      id  release_date                                        movie  \\\n",
       "0      1          2009                                       avatar   \n",
       "1      2          2011  pirates of the caribbean: on stranger tides   \n",
       "2      3          2019                                 dark phoenix   \n",
       "3      4          2015                      avengers: age of ultron   \n",
       "4      5          2017            star wars ep. viii: the last jedi   \n",
       "...   ..           ...                                          ...   \n",
       "5777  78          2018                                       red 11   \n",
       "5778  79          1999                                    following   \n",
       "5779  80          2005                return to the land of wonders   \n",
       "5780  81          2015                         a plague so pleasant   \n",
       "5781  82          2005                            my date with drew   \n",
       "\n",
       "      production_budget  domestic_gross  worldwide_gross  \n",
       "0             425000000       760507625     2.776345e+09  \n",
       "1             410600000       241063875     1.045664e+09  \n",
       "2             350000000        42762350     1.497624e+08  \n",
       "3             330600000       459005868     1.403014e+09  \n",
       "4             317000000       620181382     1.316722e+09  \n",
       "...                 ...             ...              ...  \n",
       "5777               7000               0     0.000000e+00  \n",
       "5778               6000           48482     2.404950e+05  \n",
       "5779               5000            1338     1.338000e+03  \n",
       "5780               1400               0     0.000000e+00  \n",
       "5781               1100          181041     1.810410e+05  \n",
       "\n",
       "[5782 rows x 6 columns]"
      ]
     },
     "execution_count": 60,
     "metadata": {},
     "output_type": "execute_result"
    }
   ],
   "source": [
    "tn_movies_budgets"
   ]
  },
  {
   "cell_type": "code",
   "execution_count": 66,
   "id": "ce0ad3a4-2812-419e-b4d9-0110a45d0381",
   "metadata": {},
   "outputs": [],
   "source": [
    "tn_imbd_combined = tn_movies_budgets.merge(imdb_title_basics, how='inner', left_on= ['movie', 'release_date'] , right_on= ['primary_title', 'start_year'])"
   ]
  },
  {
   "cell_type": "code",
   "execution_count": 67,
   "id": "094a36b3-01fb-47d4-b9ef-acfd24f06289",
   "metadata": {},
   "outputs": [
    {
     "data": {
      "text/html": [
       "<div>\n",
       "<style scoped>\n",
       "    .dataframe tbody tr th:only-of-type {\n",
       "        vertical-align: middle;\n",
       "    }\n",
       "\n",
       "    .dataframe tbody tr th {\n",
       "        vertical-align: top;\n",
       "    }\n",
       "\n",
       "    .dataframe thead th {\n",
       "        text-align: right;\n",
       "    }\n",
       "</style>\n",
       "<table border=\"1\" class=\"dataframe\">\n",
       "  <thead>\n",
       "    <tr style=\"text-align: right;\">\n",
       "      <th></th>\n",
       "      <th>id</th>\n",
       "      <th>release_date</th>\n",
       "      <th>movie</th>\n",
       "      <th>production_budget</th>\n",
       "      <th>domestic_gross</th>\n",
       "      <th>worldwide_gross</th>\n",
       "      <th>tconst</th>\n",
       "      <th>primary_title</th>\n",
       "      <th>original_title</th>\n",
       "      <th>start_year</th>\n",
       "      <th>runtime_minutes</th>\n",
       "      <th>genres</th>\n",
       "    </tr>\n",
       "  </thead>\n",
       "  <tbody>\n",
       "    <tr>\n",
       "      <th>0</th>\n",
       "      <td>2</td>\n",
       "      <td>2011</td>\n",
       "      <td>pirates of the caribbean: on stranger tides</td>\n",
       "      <td>410600000</td>\n",
       "      <td>241063875</td>\n",
       "      <td>1.045664e+09</td>\n",
       "      <td>tt1298650</td>\n",
       "      <td>pirates of the caribbean: on stranger tides</td>\n",
       "      <td>Pirates of the Caribbean: On Stranger Tides</td>\n",
       "      <td>2011</td>\n",
       "      <td>136.0</td>\n",
       "      <td>Action,Adventure,Fantasy</td>\n",
       "    </tr>\n",
       "    <tr>\n",
       "      <th>1</th>\n",
       "      <td>3</td>\n",
       "      <td>2019</td>\n",
       "      <td>dark phoenix</td>\n",
       "      <td>350000000</td>\n",
       "      <td>42762350</td>\n",
       "      <td>1.497624e+08</td>\n",
       "      <td>tt6565702</td>\n",
       "      <td>dark phoenix</td>\n",
       "      <td>Dark Phoenix</td>\n",
       "      <td>2019</td>\n",
       "      <td>113.0</td>\n",
       "      <td>Action,Adventure,Sci-Fi</td>\n",
       "    </tr>\n",
       "    <tr>\n",
       "      <th>2</th>\n",
       "      <td>4</td>\n",
       "      <td>2015</td>\n",
       "      <td>avengers: age of ultron</td>\n",
       "      <td>330600000</td>\n",
       "      <td>459005868</td>\n",
       "      <td>1.403014e+09</td>\n",
       "      <td>tt2395427</td>\n",
       "      <td>avengers: age of ultron</td>\n",
       "      <td>Avengers: Age of Ultron</td>\n",
       "      <td>2015</td>\n",
       "      <td>141.0</td>\n",
       "      <td>Action,Adventure,Sci-Fi</td>\n",
       "    </tr>\n",
       "    <tr>\n",
       "      <th>3</th>\n",
       "      <td>7</td>\n",
       "      <td>2018</td>\n",
       "      <td>avengers: infinity war</td>\n",
       "      <td>300000000</td>\n",
       "      <td>678815482</td>\n",
       "      <td>2.048134e+09</td>\n",
       "      <td>tt4154756</td>\n",
       "      <td>avengers: infinity war</td>\n",
       "      <td>Avengers: Infinity War</td>\n",
       "      <td>2018</td>\n",
       "      <td>149.0</td>\n",
       "      <td>Action,Adventure,Sci-Fi</td>\n",
       "    </tr>\n",
       "    <tr>\n",
       "      <th>4</th>\n",
       "      <td>9</td>\n",
       "      <td>2017</td>\n",
       "      <td>justice league</td>\n",
       "      <td>300000000</td>\n",
       "      <td>229024295</td>\n",
       "      <td>6.559452e+08</td>\n",
       "      <td>tt0974015</td>\n",
       "      <td>justice league</td>\n",
       "      <td>Justice League</td>\n",
       "      <td>2017</td>\n",
       "      <td>120.0</td>\n",
       "      <td>Action,Adventure,Fantasy</td>\n",
       "    </tr>\n",
       "    <tr>\n",
       "      <th>...</th>\n",
       "      <td>...</td>\n",
       "      <td>...</td>\n",
       "      <td>...</td>\n",
       "      <td>...</td>\n",
       "      <td>...</td>\n",
       "      <td>...</td>\n",
       "      <td>...</td>\n",
       "      <td>...</td>\n",
       "      <td>...</td>\n",
       "      <td>...</td>\n",
       "      <td>...</td>\n",
       "      <td>...</td>\n",
       "    </tr>\n",
       "    <tr>\n",
       "      <th>1585</th>\n",
       "      <td>49</td>\n",
       "      <td>2015</td>\n",
       "      <td>exeter</td>\n",
       "      <td>25000</td>\n",
       "      <td>0</td>\n",
       "      <td>4.897920e+05</td>\n",
       "      <td>tt1945044</td>\n",
       "      <td>exeter</td>\n",
       "      <td>Exeter</td>\n",
       "      <td>2015</td>\n",
       "      <td>91.0</td>\n",
       "      <td>Horror,Mystery,Thriller</td>\n",
       "    </tr>\n",
       "    <tr>\n",
       "      <th>1586</th>\n",
       "      <td>49</td>\n",
       "      <td>2015</td>\n",
       "      <td>exeter</td>\n",
       "      <td>25000</td>\n",
       "      <td>0</td>\n",
       "      <td>4.897920e+05</td>\n",
       "      <td>tt4931374</td>\n",
       "      <td>exeter</td>\n",
       "      <td>Exeter</td>\n",
       "      <td>2015</td>\n",
       "      <td>92.0</td>\n",
       "      <td>NaN</td>\n",
       "    </tr>\n",
       "    <tr>\n",
       "      <th>1587</th>\n",
       "      <td>52</td>\n",
       "      <td>2015</td>\n",
       "      <td>dutch kills</td>\n",
       "      <td>25000</td>\n",
       "      <td>0</td>\n",
       "      <td>0.000000e+00</td>\n",
       "      <td>tt2759066</td>\n",
       "      <td>dutch kills</td>\n",
       "      <td>Dutch Kills</td>\n",
       "      <td>2015</td>\n",
       "      <td>90.0</td>\n",
       "      <td>Crime,Drama,Thriller</td>\n",
       "    </tr>\n",
       "    <tr>\n",
       "      <th>1588</th>\n",
       "      <td>59</td>\n",
       "      <td>2011</td>\n",
       "      <td>the ridges</td>\n",
       "      <td>17300</td>\n",
       "      <td>0</td>\n",
       "      <td>0.000000e+00</td>\n",
       "      <td>tt1781935</td>\n",
       "      <td>the ridges</td>\n",
       "      <td>The Ridges</td>\n",
       "      <td>2011</td>\n",
       "      <td>89.0</td>\n",
       "      <td>Drama,Horror,Thriller</td>\n",
       "    </tr>\n",
       "    <tr>\n",
       "      <th>1589</th>\n",
       "      <td>62</td>\n",
       "      <td>2014</td>\n",
       "      <td>stories of our lives</td>\n",
       "      <td>15000</td>\n",
       "      <td>0</td>\n",
       "      <td>0.000000e+00</td>\n",
       "      <td>tt3973612</td>\n",
       "      <td>stories of our lives</td>\n",
       "      <td>Stories of Our Lives</td>\n",
       "      <td>2014</td>\n",
       "      <td>60.0</td>\n",
       "      <td>Drama</td>\n",
       "    </tr>\n",
       "  </tbody>\n",
       "</table>\n",
       "<p>1590 rows × 12 columns</p>\n",
       "</div>"
      ],
      "text/plain": [
       "      id  release_date                                        movie  \\\n",
       "0      2          2011  pirates of the caribbean: on stranger tides   \n",
       "1      3          2019                                 dark phoenix   \n",
       "2      4          2015                      avengers: age of ultron   \n",
       "3      7          2018                       avengers: infinity war   \n",
       "4      9          2017                               justice league   \n",
       "...   ..           ...                                          ...   \n",
       "1585  49          2015                                       exeter   \n",
       "1586  49          2015                                       exeter   \n",
       "1587  52          2015                                  dutch kills   \n",
       "1588  59          2011                                   the ridges   \n",
       "1589  62          2014                         stories of our lives   \n",
       "\n",
       "      production_budget  domestic_gross  worldwide_gross     tconst  \\\n",
       "0             410600000       241063875     1.045664e+09  tt1298650   \n",
       "1             350000000        42762350     1.497624e+08  tt6565702   \n",
       "2             330600000       459005868     1.403014e+09  tt2395427   \n",
       "3             300000000       678815482     2.048134e+09  tt4154756   \n",
       "4             300000000       229024295     6.559452e+08  tt0974015   \n",
       "...                 ...             ...              ...        ...   \n",
       "1585              25000               0     4.897920e+05  tt1945044   \n",
       "1586              25000               0     4.897920e+05  tt4931374   \n",
       "1587              25000               0     0.000000e+00  tt2759066   \n",
       "1588              17300               0     0.000000e+00  tt1781935   \n",
       "1589              15000               0     0.000000e+00  tt3973612   \n",
       "\n",
       "                                    primary_title  \\\n",
       "0     pirates of the caribbean: on stranger tides   \n",
       "1                                    dark phoenix   \n",
       "2                         avengers: age of ultron   \n",
       "3                          avengers: infinity war   \n",
       "4                                  justice league   \n",
       "...                                           ...   \n",
       "1585                                       exeter   \n",
       "1586                                       exeter   \n",
       "1587                                  dutch kills   \n",
       "1588                                   the ridges   \n",
       "1589                         stories of our lives   \n",
       "\n",
       "                                   original_title  start_year  \\\n",
       "0     Pirates of the Caribbean: On Stranger Tides        2011   \n",
       "1                                    Dark Phoenix        2019   \n",
       "2                         Avengers: Age of Ultron        2015   \n",
       "3                          Avengers: Infinity War        2018   \n",
       "4                                  Justice League        2017   \n",
       "...                                           ...         ...   \n",
       "1585                                       Exeter        2015   \n",
       "1586                                       Exeter        2015   \n",
       "1587                                  Dutch Kills        2015   \n",
       "1588                                   The Ridges        2011   \n",
       "1589                         Stories of Our Lives        2014   \n",
       "\n",
       "      runtime_minutes                    genres  \n",
       "0               136.0  Action,Adventure,Fantasy  \n",
       "1               113.0   Action,Adventure,Sci-Fi  \n",
       "2               141.0   Action,Adventure,Sci-Fi  \n",
       "3               149.0   Action,Adventure,Sci-Fi  \n",
       "4               120.0  Action,Adventure,Fantasy  \n",
       "...               ...                       ...  \n",
       "1585             91.0   Horror,Mystery,Thriller  \n",
       "1586             92.0                       NaN  \n",
       "1587             90.0      Crime,Drama,Thriller  \n",
       "1588             89.0     Drama,Horror,Thriller  \n",
       "1589             60.0                     Drama  \n",
       "\n",
       "[1590 rows x 12 columns]"
      ]
     },
     "execution_count": 67,
     "metadata": {},
     "output_type": "execute_result"
    }
   ],
   "source": [
    "tn_imbd_combined"
   ]
  },
  {
   "cell_type": "code",
   "execution_count": 68,
   "id": "6c149d31",
   "metadata": {},
   "outputs": [],
   "source": [
    "tn_imbd_combined['roi'] = tn_imbd_combined['worldwide_gross'] / tn_imbd_combined['production_budget']\n",
    "tn_imbd_combined['net_profit'] = tn_imbd_combined['worldwide_gross'] - tn_imbd_combined['production_budget']\n",
    "tn_imbd_combined['profit_margin_percent'] = (((tn_imbd_combined['worldwide_gross'] / tn_imbd_combined['production_budget']) - 1) * 100)"
   ]
  },
  {
   "cell_type": "code",
   "execution_count": 69,
   "id": "f58ae74d-93d0-4b91-9ead-c1303adcb266",
   "metadata": {},
   "outputs": [
    {
     "data": {
      "text/html": [
       "<div>\n",
       "<style scoped>\n",
       "    .dataframe tbody tr th:only-of-type {\n",
       "        vertical-align: middle;\n",
       "    }\n",
       "\n",
       "    .dataframe tbody tr th {\n",
       "        vertical-align: top;\n",
       "    }\n",
       "\n",
       "    .dataframe thead th {\n",
       "        text-align: right;\n",
       "    }\n",
       "</style>\n",
       "<table border=\"1\" class=\"dataframe\">\n",
       "  <thead>\n",
       "    <tr style=\"text-align: right;\">\n",
       "      <th></th>\n",
       "      <th>id</th>\n",
       "      <th>release_date</th>\n",
       "      <th>movie</th>\n",
       "      <th>production_budget</th>\n",
       "      <th>domestic_gross</th>\n",
       "      <th>worldwide_gross</th>\n",
       "      <th>tconst</th>\n",
       "      <th>primary_title</th>\n",
       "      <th>original_title</th>\n",
       "      <th>start_year</th>\n",
       "      <th>runtime_minutes</th>\n",
       "      <th>genres</th>\n",
       "      <th>roi</th>\n",
       "      <th>net_profit</th>\n",
       "      <th>profit_margin_percent</th>\n",
       "    </tr>\n",
       "  </thead>\n",
       "  <tbody>\n",
       "    <tr>\n",
       "      <th>0</th>\n",
       "      <td>2</td>\n",
       "      <td>2011</td>\n",
       "      <td>pirates of the caribbean: on stranger tides</td>\n",
       "      <td>410600000</td>\n",
       "      <td>241063875</td>\n",
       "      <td>1.045664e+09</td>\n",
       "      <td>tt1298650</td>\n",
       "      <td>pirates of the caribbean: on stranger tides</td>\n",
       "      <td>Pirates of the Caribbean: On Stranger Tides</td>\n",
       "      <td>2011</td>\n",
       "      <td>136.0</td>\n",
       "      <td>Action,Adventure,Fantasy</td>\n",
       "      <td>2.546673</td>\n",
       "      <td>6.350639e+08</td>\n",
       "      <td>154.667286</td>\n",
       "    </tr>\n",
       "    <tr>\n",
       "      <th>1</th>\n",
       "      <td>3</td>\n",
       "      <td>2019</td>\n",
       "      <td>dark phoenix</td>\n",
       "      <td>350000000</td>\n",
       "      <td>42762350</td>\n",
       "      <td>1.497624e+08</td>\n",
       "      <td>tt6565702</td>\n",
       "      <td>dark phoenix</td>\n",
       "      <td>Dark Phoenix</td>\n",
       "      <td>2019</td>\n",
       "      <td>113.0</td>\n",
       "      <td>Action,Adventure,Sci-Fi</td>\n",
       "      <td>0.427892</td>\n",
       "      <td>-2.002376e+08</td>\n",
       "      <td>-57.210757</td>\n",
       "    </tr>\n",
       "    <tr>\n",
       "      <th>2</th>\n",
       "      <td>4</td>\n",
       "      <td>2015</td>\n",
       "      <td>avengers: age of ultron</td>\n",
       "      <td>330600000</td>\n",
       "      <td>459005868</td>\n",
       "      <td>1.403014e+09</td>\n",
       "      <td>tt2395427</td>\n",
       "      <td>avengers: age of ultron</td>\n",
       "      <td>Avengers: Age of Ultron</td>\n",
       "      <td>2015</td>\n",
       "      <td>141.0</td>\n",
       "      <td>Action,Adventure,Sci-Fi</td>\n",
       "      <td>4.243841</td>\n",
       "      <td>1.072414e+09</td>\n",
       "      <td>324.384139</td>\n",
       "    </tr>\n",
       "    <tr>\n",
       "      <th>3</th>\n",
       "      <td>7</td>\n",
       "      <td>2018</td>\n",
       "      <td>avengers: infinity war</td>\n",
       "      <td>300000000</td>\n",
       "      <td>678815482</td>\n",
       "      <td>2.048134e+09</td>\n",
       "      <td>tt4154756</td>\n",
       "      <td>avengers: infinity war</td>\n",
       "      <td>Avengers: Infinity War</td>\n",
       "      <td>2018</td>\n",
       "      <td>149.0</td>\n",
       "      <td>Action,Adventure,Sci-Fi</td>\n",
       "      <td>6.827114</td>\n",
       "      <td>1.748134e+09</td>\n",
       "      <td>582.711400</td>\n",
       "    </tr>\n",
       "    <tr>\n",
       "      <th>4</th>\n",
       "      <td>9</td>\n",
       "      <td>2017</td>\n",
       "      <td>justice league</td>\n",
       "      <td>300000000</td>\n",
       "      <td>229024295</td>\n",
       "      <td>6.559452e+08</td>\n",
       "      <td>tt0974015</td>\n",
       "      <td>justice league</td>\n",
       "      <td>Justice League</td>\n",
       "      <td>2017</td>\n",
       "      <td>120.0</td>\n",
       "      <td>Action,Adventure,Fantasy</td>\n",
       "      <td>2.186484</td>\n",
       "      <td>3.559452e+08</td>\n",
       "      <td>118.648403</td>\n",
       "    </tr>\n",
       "    <tr>\n",
       "      <th>...</th>\n",
       "      <td>...</td>\n",
       "      <td>...</td>\n",
       "      <td>...</td>\n",
       "      <td>...</td>\n",
       "      <td>...</td>\n",
       "      <td>...</td>\n",
       "      <td>...</td>\n",
       "      <td>...</td>\n",
       "      <td>...</td>\n",
       "      <td>...</td>\n",
       "      <td>...</td>\n",
       "      <td>...</td>\n",
       "      <td>...</td>\n",
       "      <td>...</td>\n",
       "      <td>...</td>\n",
       "    </tr>\n",
       "    <tr>\n",
       "      <th>1585</th>\n",
       "      <td>49</td>\n",
       "      <td>2015</td>\n",
       "      <td>exeter</td>\n",
       "      <td>25000</td>\n",
       "      <td>0</td>\n",
       "      <td>4.897920e+05</td>\n",
       "      <td>tt1945044</td>\n",
       "      <td>exeter</td>\n",
       "      <td>Exeter</td>\n",
       "      <td>2015</td>\n",
       "      <td>91.0</td>\n",
       "      <td>Horror,Mystery,Thriller</td>\n",
       "      <td>19.591680</td>\n",
       "      <td>4.647920e+05</td>\n",
       "      <td>1859.168000</td>\n",
       "    </tr>\n",
       "    <tr>\n",
       "      <th>1586</th>\n",
       "      <td>49</td>\n",
       "      <td>2015</td>\n",
       "      <td>exeter</td>\n",
       "      <td>25000</td>\n",
       "      <td>0</td>\n",
       "      <td>4.897920e+05</td>\n",
       "      <td>tt4931374</td>\n",
       "      <td>exeter</td>\n",
       "      <td>Exeter</td>\n",
       "      <td>2015</td>\n",
       "      <td>92.0</td>\n",
       "      <td>NaN</td>\n",
       "      <td>19.591680</td>\n",
       "      <td>4.647920e+05</td>\n",
       "      <td>1859.168000</td>\n",
       "    </tr>\n",
       "    <tr>\n",
       "      <th>1587</th>\n",
       "      <td>52</td>\n",
       "      <td>2015</td>\n",
       "      <td>dutch kills</td>\n",
       "      <td>25000</td>\n",
       "      <td>0</td>\n",
       "      <td>0.000000e+00</td>\n",
       "      <td>tt2759066</td>\n",
       "      <td>dutch kills</td>\n",
       "      <td>Dutch Kills</td>\n",
       "      <td>2015</td>\n",
       "      <td>90.0</td>\n",
       "      <td>Crime,Drama,Thriller</td>\n",
       "      <td>0.000000</td>\n",
       "      <td>-2.500000e+04</td>\n",
       "      <td>-100.000000</td>\n",
       "    </tr>\n",
       "    <tr>\n",
       "      <th>1588</th>\n",
       "      <td>59</td>\n",
       "      <td>2011</td>\n",
       "      <td>the ridges</td>\n",
       "      <td>17300</td>\n",
       "      <td>0</td>\n",
       "      <td>0.000000e+00</td>\n",
       "      <td>tt1781935</td>\n",
       "      <td>the ridges</td>\n",
       "      <td>The Ridges</td>\n",
       "      <td>2011</td>\n",
       "      <td>89.0</td>\n",
       "      <td>Drama,Horror,Thriller</td>\n",
       "      <td>0.000000</td>\n",
       "      <td>-1.730000e+04</td>\n",
       "      <td>-100.000000</td>\n",
       "    </tr>\n",
       "    <tr>\n",
       "      <th>1589</th>\n",
       "      <td>62</td>\n",
       "      <td>2014</td>\n",
       "      <td>stories of our lives</td>\n",
       "      <td>15000</td>\n",
       "      <td>0</td>\n",
       "      <td>0.000000e+00</td>\n",
       "      <td>tt3973612</td>\n",
       "      <td>stories of our lives</td>\n",
       "      <td>Stories of Our Lives</td>\n",
       "      <td>2014</td>\n",
       "      <td>60.0</td>\n",
       "      <td>Drama</td>\n",
       "      <td>0.000000</td>\n",
       "      <td>-1.500000e+04</td>\n",
       "      <td>-100.000000</td>\n",
       "    </tr>\n",
       "  </tbody>\n",
       "</table>\n",
       "<p>1590 rows × 15 columns</p>\n",
       "</div>"
      ],
      "text/plain": [
       "      id  release_date                                        movie  \\\n",
       "0      2          2011  pirates of the caribbean: on stranger tides   \n",
       "1      3          2019                                 dark phoenix   \n",
       "2      4          2015                      avengers: age of ultron   \n",
       "3      7          2018                       avengers: infinity war   \n",
       "4      9          2017                               justice league   \n",
       "...   ..           ...                                          ...   \n",
       "1585  49          2015                                       exeter   \n",
       "1586  49          2015                                       exeter   \n",
       "1587  52          2015                                  dutch kills   \n",
       "1588  59          2011                                   the ridges   \n",
       "1589  62          2014                         stories of our lives   \n",
       "\n",
       "      production_budget  domestic_gross  worldwide_gross     tconst  \\\n",
       "0             410600000       241063875     1.045664e+09  tt1298650   \n",
       "1             350000000        42762350     1.497624e+08  tt6565702   \n",
       "2             330600000       459005868     1.403014e+09  tt2395427   \n",
       "3             300000000       678815482     2.048134e+09  tt4154756   \n",
       "4             300000000       229024295     6.559452e+08  tt0974015   \n",
       "...                 ...             ...              ...        ...   \n",
       "1585              25000               0     4.897920e+05  tt1945044   \n",
       "1586              25000               0     4.897920e+05  tt4931374   \n",
       "1587              25000               0     0.000000e+00  tt2759066   \n",
       "1588              17300               0     0.000000e+00  tt1781935   \n",
       "1589              15000               0     0.000000e+00  tt3973612   \n",
       "\n",
       "                                    primary_title  \\\n",
       "0     pirates of the caribbean: on stranger tides   \n",
       "1                                    dark phoenix   \n",
       "2                         avengers: age of ultron   \n",
       "3                          avengers: infinity war   \n",
       "4                                  justice league   \n",
       "...                                           ...   \n",
       "1585                                       exeter   \n",
       "1586                                       exeter   \n",
       "1587                                  dutch kills   \n",
       "1588                                   the ridges   \n",
       "1589                         stories of our lives   \n",
       "\n",
       "                                   original_title  start_year  \\\n",
       "0     Pirates of the Caribbean: On Stranger Tides        2011   \n",
       "1                                    Dark Phoenix        2019   \n",
       "2                         Avengers: Age of Ultron        2015   \n",
       "3                          Avengers: Infinity War        2018   \n",
       "4                                  Justice League        2017   \n",
       "...                                           ...         ...   \n",
       "1585                                       Exeter        2015   \n",
       "1586                                       Exeter        2015   \n",
       "1587                                  Dutch Kills        2015   \n",
       "1588                                   The Ridges        2011   \n",
       "1589                         Stories of Our Lives        2014   \n",
       "\n",
       "      runtime_minutes                    genres        roi    net_profit  \\\n",
       "0               136.0  Action,Adventure,Fantasy   2.546673  6.350639e+08   \n",
       "1               113.0   Action,Adventure,Sci-Fi   0.427892 -2.002376e+08   \n",
       "2               141.0   Action,Adventure,Sci-Fi   4.243841  1.072414e+09   \n",
       "3               149.0   Action,Adventure,Sci-Fi   6.827114  1.748134e+09   \n",
       "4               120.0  Action,Adventure,Fantasy   2.186484  3.559452e+08   \n",
       "...               ...                       ...        ...           ...   \n",
       "1585             91.0   Horror,Mystery,Thriller  19.591680  4.647920e+05   \n",
       "1586             92.0                       NaN  19.591680  4.647920e+05   \n",
       "1587             90.0      Crime,Drama,Thriller   0.000000 -2.500000e+04   \n",
       "1588             89.0     Drama,Horror,Thriller   0.000000 -1.730000e+04   \n",
       "1589             60.0                     Drama   0.000000 -1.500000e+04   \n",
       "\n",
       "      profit_margin_percent  \n",
       "0                154.667286  \n",
       "1                -57.210757  \n",
       "2                324.384139  \n",
       "3                582.711400  \n",
       "4                118.648403  \n",
       "...                     ...  \n",
       "1585            1859.168000  \n",
       "1586            1859.168000  \n",
       "1587            -100.000000  \n",
       "1588            -100.000000  \n",
       "1589            -100.000000  \n",
       "\n",
       "[1590 rows x 15 columns]"
      ]
     },
     "execution_count": 69,
     "metadata": {},
     "output_type": "execute_result"
    }
   ],
   "source": [
    "tn_imbd_combined"
   ]
  },
  {
   "cell_type": "code",
   "execution_count": 73,
   "id": "4c95f088-148f-4658-9f05-b17f2409b71d",
   "metadata": {},
   "outputs": [
    {
     "data": {
      "text/plain": [
       "<AxesSubplot:xlabel='runtime_minutes', ylabel='roi'>"
      ]
     },
     "execution_count": 73,
     "metadata": {},
     "output_type": "execute_result"
    },
    {
     "data": {
      "image/png": "[encoded data removed]",
      "text/plain": [
       "<Figure size 432x288 with 1 Axes>"
      ]
     },
     "metadata": {
      "needs_background": "light"
     },
     "output_type": "display_data"
    }
   ],
   "source": [
    "tn_imbd_combined.plot.scatter('runtime_minutes', 'roi')"
   ]
  },
  {
   "cell_type": "code",
   "execution_count": 74,
   "id": "39d81dd5-f9a7-4dd7-9b3a-5c198faebff5",
   "metadata": {},
   "outputs": [
    {
     "data": {
      "text/plain": [
       "<AxesSubplot:xlabel='runtime_minutes', ylabel='net_profit'>"
      ]
     },
     "execution_count": 74,
     "metadata": {},
     "output_type": "execute_result"
    },
    {
     "data": {
      "image/png": "[encoded data removed]",
      "text/plain": [
       "<Figure size 432x288 with 1 Axes>"
      ]
     },
     "metadata": {
      "needs_background": "light"
     },
     "output_type": "display_data"
    }
   ],
   "source": [
    "tn_imbd_combined.plot.scatter('runtime_minutes', 'net_profit')"
   ]
  },
  {
   "cell_type": "code",
   "execution_count": 75,
   "id": "65bca770-67df-4f97-9292-42383c875926",
   "metadata": {},
   "outputs": [
    {
     "data": {
      "text/plain": [
       "<AxesSubplot:xlabel='runtime_minutes', ylabel='profit_margin_percent'>"
      ]
     },
     "execution_count": 75,
     "metadata": {},
     "output_type": "execute_result"
    },
    {
     "data": {
      "image/png": "[encoded data removed]",
      "text/plain": [
       "<Figure size 432x288 with 1 Axes>"
      ]
     },
     "metadata": {
      "needs_background": "light"
     },
     "output_type": "display_data"
    }
   ],
   "source": [
    "tn_imbd_combined.plot.scatter('runtime_minutes', 'profit_margin_percent')"
   ]
  },
  {
   "cell_type": "code",
   "execution_count": null,
   "id": "8a20fb31-6619-49e7-b1f5-74ee4a9a36e0",
   "metadata": {},
   "outputs": [],
   "source": []
  },
  {
   "cell_type": "code",
   "execution_count": 84,
   "id": "a7d5de7b-1c8e-4134-9d9b-e8fdcae0aa6c",
   "metadata": {},
   "outputs": [
    {
     "data": {
      "text/html": [
       "<div>\n",
       "<style scoped>\n",
       "    .dataframe tbody tr th:only-of-type {\n",
       "        vertical-align: middle;\n",
       "    }\n",
       "\n",
       "    .dataframe tbody tr th {\n",
       "        vertical-align: top;\n",
       "    }\n",
       "\n",
       "    .dataframe thead th {\n",
       "        text-align: right;\n",
       "    }\n",
       "</style>\n",
       "<table border=\"1\" class=\"dataframe\">\n",
       "  <thead>\n",
       "    <tr style=\"text-align: right;\">\n",
       "      <th></th>\n",
       "      <th>id</th>\n",
       "      <th>release_date</th>\n",
       "      <th>movie</th>\n",
       "      <th>production_budget</th>\n",
       "      <th>domestic_gross</th>\n",
       "      <th>worldwide_gross</th>\n",
       "      <th>tconst</th>\n",
       "      <th>primary_title</th>\n",
       "      <th>original_title</th>\n",
       "      <th>start_year</th>\n",
       "      <th>runtime_minutes</th>\n",
       "      <th>genres</th>\n",
       "      <th>roi</th>\n",
       "      <th>net_profit</th>\n",
       "      <th>profit_margin_percent</th>\n",
       "    </tr>\n",
       "  </thead>\n",
       "  <tbody>\n",
       "    <tr>\n",
       "      <th>1564</th>\n",
       "      <td>80</td>\n",
       "      <td>2015</td>\n",
       "      <td>the gallows</td>\n",
       "      <td>100000</td>\n",
       "      <td>22764410</td>\n",
       "      <td>41656474.0</td>\n",
       "      <td>tt2309260</td>\n",
       "      <td>the gallows</td>\n",
       "      <td>The Gallows</td>\n",
       "      <td>2015</td>\n",
       "      <td>81.0</td>\n",
       "      <td>Horror,Mystery,Thriller</td>\n",
       "      <td>416.564740</td>\n",
       "      <td>41556474.0</td>\n",
       "      <td>41556.474000</td>\n",
       "    </tr>\n",
       "    <tr>\n",
       "      <th>1464</th>\n",
       "      <td>12</td>\n",
       "      <td>2012</td>\n",
       "      <td>the devil inside</td>\n",
       "      <td>1000000</td>\n",
       "      <td>53262945</td>\n",
       "      <td>101759490.0</td>\n",
       "      <td>tt1560985</td>\n",
       "      <td>the devil inside</td>\n",
       "      <td>The Devil Inside</td>\n",
       "      <td>2012</td>\n",
       "      <td>83.0</td>\n",
       "      <td>Horror</td>\n",
       "      <td>101.759490</td>\n",
       "      <td>100759490.0</td>\n",
       "      <td>10075.949000</td>\n",
       "    </tr>\n",
       "    <tr>\n",
       "      <th>1341</th>\n",
       "      <td>65</td>\n",
       "      <td>2010</td>\n",
       "      <td>paranormal activity 2</td>\n",
       "      <td>3000000</td>\n",
       "      <td>84752907</td>\n",
       "      <td>177512032.0</td>\n",
       "      <td>tt1536044</td>\n",
       "      <td>paranormal activity 2</td>\n",
       "      <td>Paranormal Activity 2</td>\n",
       "      <td>2010</td>\n",
       "      <td>91.0</td>\n",
       "      <td>Horror</td>\n",
       "      <td>59.170677</td>\n",
       "      <td>174512032.0</td>\n",
       "      <td>5817.067733</td>\n",
       "    </tr>\n",
       "    <tr>\n",
       "      <th>1245</th>\n",
       "      <td>49</td>\n",
       "      <td>2017</td>\n",
       "      <td>get out</td>\n",
       "      <td>5000000</td>\n",
       "      <td>176040665</td>\n",
       "      <td>255367951.0</td>\n",
       "      <td>tt5052448</td>\n",
       "      <td>get out</td>\n",
       "      <td>Get Out</td>\n",
       "      <td>2017</td>\n",
       "      <td>104.0</td>\n",
       "      <td>Horror,Mystery,Thriller</td>\n",
       "      <td>51.073590</td>\n",
       "      <td>250367951.0</td>\n",
       "      <td>5007.359020</td>\n",
       "    </tr>\n",
       "    <tr>\n",
       "      <th>1439</th>\n",
       "      <td>64</td>\n",
       "      <td>2016</td>\n",
       "      <td>moonlight</td>\n",
       "      <td>1500000</td>\n",
       "      <td>27854931</td>\n",
       "      <td>65245512.0</td>\n",
       "      <td>tt4975722</td>\n",
       "      <td>moonlight</td>\n",
       "      <td>Moonlight</td>\n",
       "      <td>2016</td>\n",
       "      <td>111.0</td>\n",
       "      <td>Drama</td>\n",
       "      <td>43.497008</td>\n",
       "      <td>63745512.0</td>\n",
       "      <td>4249.700800</td>\n",
       "    </tr>\n",
       "    <tr>\n",
       "      <th>...</th>\n",
       "      <td>...</td>\n",
       "      <td>...</td>\n",
       "      <td>...</td>\n",
       "      <td>...</td>\n",
       "      <td>...</td>\n",
       "      <td>...</td>\n",
       "      <td>...</td>\n",
       "      <td>...</td>\n",
       "      <td>...</td>\n",
       "      <td>...</td>\n",
       "      <td>...</td>\n",
       "      <td>...</td>\n",
       "      <td>...</td>\n",
       "      <td>...</td>\n",
       "      <td>...</td>\n",
       "    </tr>\n",
       "    <tr>\n",
       "      <th>886</th>\n",
       "      <td>17</td>\n",
       "      <td>2018</td>\n",
       "      <td>bird box</td>\n",
       "      <td>19800000</td>\n",
       "      <td>0</td>\n",
       "      <td>0.0</td>\n",
       "      <td>tt2737304</td>\n",
       "      <td>bird box</td>\n",
       "      <td>Bird Box</td>\n",
       "      <td>2018</td>\n",
       "      <td>124.0</td>\n",
       "      <td>Drama,Horror,Sci-Fi</td>\n",
       "      <td>0.000000</td>\n",
       "      <td>-19800000.0</td>\n",
       "      <td>-100.000000</td>\n",
       "    </tr>\n",
       "    <tr>\n",
       "      <th>885</th>\n",
       "      <td>15</td>\n",
       "      <td>2016</td>\n",
       "      <td>fight valley</td>\n",
       "      <td>20000000</td>\n",
       "      <td>0</td>\n",
       "      <td>0.0</td>\n",
       "      <td>tt4280822</td>\n",
       "      <td>fight valley</td>\n",
       "      <td>Fight Valley</td>\n",
       "      <td>2016</td>\n",
       "      <td>90.0</td>\n",
       "      <td>Action,Drama</td>\n",
       "      <td>0.000000</td>\n",
       "      <td>-20000000.0</td>\n",
       "      <td>-100.000000</td>\n",
       "    </tr>\n",
       "    <tr>\n",
       "      <th>884</th>\n",
       "      <td>14</td>\n",
       "      <td>2014</td>\n",
       "      <td>dwegons and leprechauns</td>\n",
       "      <td>20000000</td>\n",
       "      <td>0</td>\n",
       "      <td>0.0</td>\n",
       "      <td>tt1134666</td>\n",
       "      <td>dwegons and leprechauns</td>\n",
       "      <td>Dwegons and Leprechauns</td>\n",
       "      <td>2014</td>\n",
       "      <td>98.0</td>\n",
       "      <td>Animation</td>\n",
       "      <td>0.000000</td>\n",
       "      <td>-20000000.0</td>\n",
       "      <td>-100.000000</td>\n",
       "    </tr>\n",
       "    <tr>\n",
       "      <th>1449</th>\n",
       "      <td>12</td>\n",
       "      <td>2011</td>\n",
       "      <td>the lion of judah</td>\n",
       "      <td>1500000</td>\n",
       "      <td>0</td>\n",
       "      <td>0.0</td>\n",
       "      <td>tt1212022</td>\n",
       "      <td>the lion of judah</td>\n",
       "      <td>The Lion of Judah</td>\n",
       "      <td>2011</td>\n",
       "      <td>87.0</td>\n",
       "      <td>Animation</td>\n",
       "      <td>0.000000</td>\n",
       "      <td>-1500000.0</td>\n",
       "      <td>-100.000000</td>\n",
       "    </tr>\n",
       "    <tr>\n",
       "      <th>1589</th>\n",
       "      <td>62</td>\n",
       "      <td>2014</td>\n",
       "      <td>stories of our lives</td>\n",
       "      <td>15000</td>\n",
       "      <td>0</td>\n",
       "      <td>0.0</td>\n",
       "      <td>tt3973612</td>\n",
       "      <td>stories of our lives</td>\n",
       "      <td>Stories of Our Lives</td>\n",
       "      <td>2014</td>\n",
       "      <td>60.0</td>\n",
       "      <td>Drama</td>\n",
       "      <td>0.000000</td>\n",
       "      <td>-15000.0</td>\n",
       "      <td>-100.000000</td>\n",
       "    </tr>\n",
       "  </tbody>\n",
       "</table>\n",
       "<p>1590 rows × 15 columns</p>\n",
       "</div>"
      ],
      "text/plain": [
       "      id  release_date                    movie  production_budget  \\\n",
       "1564  80          2015              the gallows             100000   \n",
       "1464  12          2012         the devil inside            1000000   \n",
       "1341  65          2010    paranormal activity 2            3000000   \n",
       "1245  49          2017                  get out            5000000   \n",
       "1439  64          2016                moonlight            1500000   \n",
       "...   ..           ...                      ...                ...   \n",
       "886   17          2018                 bird box           19800000   \n",
       "885   15          2016             fight valley           20000000   \n",
       "884   14          2014  dwegons and leprechauns           20000000   \n",
       "1449  12          2011        the lion of judah            1500000   \n",
       "1589  62          2014     stories of our lives              15000   \n",
       "\n",
       "      domestic_gross  worldwide_gross     tconst            primary_title  \\\n",
       "1564        22764410       41656474.0  tt2309260              the gallows   \n",
       "1464        53262945      101759490.0  tt1560985         the devil inside   \n",
       "1341        84752907      177512032.0  tt1536044    paranormal activity 2   \n",
       "1245       176040665      255367951.0  tt5052448                  get out   \n",
       "1439        27854931       65245512.0  tt4975722                moonlight   \n",
       "...              ...              ...        ...                      ...   \n",
       "886                0              0.0  tt2737304                 bird box   \n",
       "885                0              0.0  tt4280822             fight valley   \n",
       "884                0              0.0  tt1134666  dwegons and leprechauns   \n",
       "1449               0              0.0  tt1212022        the lion of judah   \n",
       "1589               0              0.0  tt3973612     stories of our lives   \n",
       "\n",
       "               original_title  start_year  runtime_minutes  \\\n",
       "1564              The Gallows        2015             81.0   \n",
       "1464         The Devil Inside        2012             83.0   \n",
       "1341    Paranormal Activity 2        2010             91.0   \n",
       "1245                  Get Out        2017            104.0   \n",
       "1439                Moonlight        2016            111.0   \n",
       "...                       ...         ...              ...   \n",
       "886                  Bird Box        2018            124.0   \n",
       "885              Fight Valley        2016             90.0   \n",
       "884   Dwegons and Leprechauns        2014             98.0   \n",
       "1449        The Lion of Judah        2011             87.0   \n",
       "1589     Stories of Our Lives        2014             60.0   \n",
       "\n",
       "                       genres         roi   net_profit  profit_margin_percent  \n",
       "1564  Horror,Mystery,Thriller  416.564740   41556474.0           41556.474000  \n",
       "1464                   Horror  101.759490  100759490.0           10075.949000  \n",
       "1341                   Horror   59.170677  174512032.0            5817.067733  \n",
       "1245  Horror,Mystery,Thriller   51.073590  250367951.0            5007.359020  \n",
       "1439                    Drama   43.497008   63745512.0            4249.700800  \n",
       "...                       ...         ...          ...                    ...  \n",
       "886       Drama,Horror,Sci-Fi    0.000000  -19800000.0            -100.000000  \n",
       "885              Action,Drama    0.000000  -20000000.0            -100.000000  \n",
       "884                 Animation    0.000000  -20000000.0            -100.000000  \n",
       "1449                Animation    0.000000   -1500000.0            -100.000000  \n",
       "1589                    Drama    0.000000     -15000.0            -100.000000  \n",
       "\n",
       "[1590 rows x 15 columns]"
      ]
     },
     "execution_count": 84,
     "metadata": {},
     "output_type": "execute_result"
    }
   ],
   "source": [
    "tn_imbd_combined.sort_values(\"roi\", ascending = False)"
   ]
  },
  {
   "cell_type": "code",
   "execution_count": 92,
   "id": "a4e20096-503f-458e-b7c7-8fead3d19d05",
   "metadata": {},
   "outputs": [
    {
     "data": {
      "text/html": [
       "<div>\n",
       "<style scoped>\n",
       "    .dataframe tbody tr th:only-of-type {\n",
       "        vertical-align: middle;\n",
       "    }\n",
       "\n",
       "    .dataframe tbody tr th {\n",
       "        vertical-align: top;\n",
       "    }\n",
       "\n",
       "    .dataframe thead th {\n",
       "        text-align: right;\n",
       "    }\n",
       "</style>\n",
       "<table border=\"1\" class=\"dataframe\">\n",
       "  <thead>\n",
       "    <tr style=\"text-align: right;\">\n",
       "      <th></th>\n",
       "      <th>id</th>\n",
       "      <th>release_date</th>\n",
       "      <th>movie</th>\n",
       "      <th>production_budget</th>\n",
       "      <th>domestic_gross</th>\n",
       "      <th>worldwide_gross</th>\n",
       "      <th>tconst</th>\n",
       "      <th>primary_title</th>\n",
       "      <th>original_title</th>\n",
       "      <th>start_year</th>\n",
       "      <th>runtime_minutes</th>\n",
       "      <th>genres</th>\n",
       "      <th>roi</th>\n",
       "      <th>net_profit</th>\n",
       "      <th>profit_margin_percent</th>\n",
       "    </tr>\n",
       "  </thead>\n",
       "  <tbody>\n",
       "    <tr>\n",
       "      <th>1464</th>\n",
       "      <td>12</td>\n",
       "      <td>2012</td>\n",
       "      <td>the devil inside</td>\n",
       "      <td>1000000</td>\n",
       "      <td>53262945</td>\n",
       "      <td>101759490.0</td>\n",
       "      <td>tt1560985</td>\n",
       "      <td>the devil inside</td>\n",
       "      <td>The Devil Inside</td>\n",
       "      <td>2012</td>\n",
       "      <td>83.0</td>\n",
       "      <td>Horror</td>\n",
       "      <td>101.759490</td>\n",
       "      <td>100759490.0</td>\n",
       "      <td>10075.949000</td>\n",
       "    </tr>\n",
       "    <tr>\n",
       "      <th>1341</th>\n",
       "      <td>65</td>\n",
       "      <td>2010</td>\n",
       "      <td>paranormal activity 2</td>\n",
       "      <td>3000000</td>\n",
       "      <td>84752907</td>\n",
       "      <td>177512032.0</td>\n",
       "      <td>tt1536044</td>\n",
       "      <td>paranormal activity 2</td>\n",
       "      <td>Paranormal Activity 2</td>\n",
       "      <td>2010</td>\n",
       "      <td>91.0</td>\n",
       "      <td>Horror</td>\n",
       "      <td>59.170677</td>\n",
       "      <td>174512032.0</td>\n",
       "      <td>5817.067733</td>\n",
       "    </tr>\n",
       "    <tr>\n",
       "      <th>1245</th>\n",
       "      <td>49</td>\n",
       "      <td>2017</td>\n",
       "      <td>get out</td>\n",
       "      <td>5000000</td>\n",
       "      <td>176040665</td>\n",
       "      <td>255367951.0</td>\n",
       "      <td>tt5052448</td>\n",
       "      <td>get out</td>\n",
       "      <td>Get Out</td>\n",
       "      <td>2017</td>\n",
       "      <td>104.0</td>\n",
       "      <td>Horror,Mystery,Thriller</td>\n",
       "      <td>51.073590</td>\n",
       "      <td>250367951.0</td>\n",
       "      <td>5007.359020</td>\n",
       "    </tr>\n",
       "    <tr>\n",
       "      <th>1439</th>\n",
       "      <td>64</td>\n",
       "      <td>2016</td>\n",
       "      <td>moonlight</td>\n",
       "      <td>1500000</td>\n",
       "      <td>27854931</td>\n",
       "      <td>65245512.0</td>\n",
       "      <td>tt4975722</td>\n",
       "      <td>moonlight</td>\n",
       "      <td>Moonlight</td>\n",
       "      <td>2016</td>\n",
       "      <td>111.0</td>\n",
       "      <td>Drama</td>\n",
       "      <td>43.497008</td>\n",
       "      <td>63745512.0</td>\n",
       "      <td>4249.700800</td>\n",
       "    </tr>\n",
       "    <tr>\n",
       "      <th>1465</th>\n",
       "      <td>18</td>\n",
       "      <td>2012</td>\n",
       "      <td>chernobyl diaries</td>\n",
       "      <td>1000000</td>\n",
       "      <td>18119640</td>\n",
       "      <td>42411721.0</td>\n",
       "      <td>tt1991245</td>\n",
       "      <td>chernobyl diaries</td>\n",
       "      <td>Chernobyl Diaries</td>\n",
       "      <td>2012</td>\n",
       "      <td>86.0</td>\n",
       "      <td>Horror,Mystery,Thriller</td>\n",
       "      <td>42.411721</td>\n",
       "      <td>41411721.0</td>\n",
       "      <td>4141.172100</td>\n",
       "    </tr>\n",
       "    <tr>\n",
       "      <th>...</th>\n",
       "      <td>...</td>\n",
       "      <td>...</td>\n",
       "      <td>...</td>\n",
       "      <td>...</td>\n",
       "      <td>...</td>\n",
       "      <td>...</td>\n",
       "      <td>...</td>\n",
       "      <td>...</td>\n",
       "      <td>...</td>\n",
       "      <td>...</td>\n",
       "      <td>...</td>\n",
       "      <td>...</td>\n",
       "      <td>...</td>\n",
       "      <td>...</td>\n",
       "      <td>...</td>\n",
       "    </tr>\n",
       "    <tr>\n",
       "      <th>1434</th>\n",
       "      <td>32</td>\n",
       "      <td>2013</td>\n",
       "      <td>independence daysaster</td>\n",
       "      <td>1800000</td>\n",
       "      <td>0</td>\n",
       "      <td>0.0</td>\n",
       "      <td>tt2645670</td>\n",
       "      <td>independence daysaster</td>\n",
       "      <td>Independence Daysaster</td>\n",
       "      <td>2013</td>\n",
       "      <td>90.0</td>\n",
       "      <td>Action,Adventure,Sci-Fi</td>\n",
       "      <td>0.000000</td>\n",
       "      <td>-1800000.0</td>\n",
       "      <td>-100.000000</td>\n",
       "    </tr>\n",
       "    <tr>\n",
       "      <th>378</th>\n",
       "      <td>53</td>\n",
       "      <td>2019</td>\n",
       "      <td>midway</td>\n",
       "      <td>59500000</td>\n",
       "      <td>0</td>\n",
       "      <td>0.0</td>\n",
       "      <td>tt6924650</td>\n",
       "      <td>midway</td>\n",
       "      <td>Midway</td>\n",
       "      <td>2019</td>\n",
       "      <td>NaN</td>\n",
       "      <td>Action,Drama,History</td>\n",
       "      <td>0.000000</td>\n",
       "      <td>-59500000.0</td>\n",
       "      <td>-100.000000</td>\n",
       "    </tr>\n",
       "    <tr>\n",
       "      <th>1449</th>\n",
       "      <td>12</td>\n",
       "      <td>2011</td>\n",
       "      <td>the lion of judah</td>\n",
       "      <td>1500000</td>\n",
       "      <td>0</td>\n",
       "      <td>0.0</td>\n",
       "      <td>tt1212022</td>\n",
       "      <td>the lion of judah</td>\n",
       "      <td>The Lion of Judah</td>\n",
       "      <td>2011</td>\n",
       "      <td>87.0</td>\n",
       "      <td>Animation</td>\n",
       "      <td>0.000000</td>\n",
       "      <td>-1500000.0</td>\n",
       "      <td>-100.000000</td>\n",
       "    </tr>\n",
       "    <tr>\n",
       "      <th>1450</th>\n",
       "      <td>16</td>\n",
       "      <td>2015</td>\n",
       "      <td>#horror</td>\n",
       "      <td>1500000</td>\n",
       "      <td>0</td>\n",
       "      <td>0.0</td>\n",
       "      <td>tt3526286</td>\n",
       "      <td>#horror</td>\n",
       "      <td>#Horror</td>\n",
       "      <td>2015</td>\n",
       "      <td>101.0</td>\n",
       "      <td>Crime,Drama,Horror</td>\n",
       "      <td>0.000000</td>\n",
       "      <td>-1500000.0</td>\n",
       "      <td>-100.000000</td>\n",
       "    </tr>\n",
       "    <tr>\n",
       "      <th>1589</th>\n",
       "      <td>62</td>\n",
       "      <td>2014</td>\n",
       "      <td>stories of our lives</td>\n",
       "      <td>15000</td>\n",
       "      <td>0</td>\n",
       "      <td>0.0</td>\n",
       "      <td>tt3973612</td>\n",
       "      <td>stories of our lives</td>\n",
       "      <td>Stories of Our Lives</td>\n",
       "      <td>2014</td>\n",
       "      <td>60.0</td>\n",
       "      <td>Drama</td>\n",
       "      <td>0.000000</td>\n",
       "      <td>-15000.0</td>\n",
       "      <td>-100.000000</td>\n",
       "    </tr>\n",
       "  </tbody>\n",
       "</table>\n",
       "<p>1589 rows × 15 columns</p>\n",
       "</div>"
      ],
      "text/plain": [
       "      id  release_date                   movie  production_budget  \\\n",
       "1464  12          2012        the devil inside            1000000   \n",
       "1341  65          2010   paranormal activity 2            3000000   \n",
       "1245  49          2017                 get out            5000000   \n",
       "1439  64          2016               moonlight            1500000   \n",
       "1465  18          2012       chernobyl diaries            1000000   \n",
       "...   ..           ...                     ...                ...   \n",
       "1434  32          2013  independence daysaster            1800000   \n",
       "378   53          2019                  midway           59500000   \n",
       "1449  12          2011       the lion of judah            1500000   \n",
       "1450  16          2015                 #horror            1500000   \n",
       "1589  62          2014    stories of our lives              15000   \n",
       "\n",
       "      domestic_gross  worldwide_gross     tconst           primary_title  \\\n",
       "1464        53262945      101759490.0  tt1560985        the devil inside   \n",
       "1341        84752907      177512032.0  tt1536044   paranormal activity 2   \n",
       "1245       176040665      255367951.0  tt5052448                 get out   \n",
       "1439        27854931       65245512.0  tt4975722               moonlight   \n",
       "1465        18119640       42411721.0  tt1991245       chernobyl diaries   \n",
       "...              ...              ...        ...                     ...   \n",
       "1434               0              0.0  tt2645670  independence daysaster   \n",
       "378                0              0.0  tt6924650                  midway   \n",
       "1449               0              0.0  tt1212022       the lion of judah   \n",
       "1450               0              0.0  tt3526286                 #horror   \n",
       "1589               0              0.0  tt3973612    stories of our lives   \n",
       "\n",
       "              original_title  start_year  runtime_minutes  \\\n",
       "1464        The Devil Inside        2012             83.0   \n",
       "1341   Paranormal Activity 2        2010             91.0   \n",
       "1245                 Get Out        2017            104.0   \n",
       "1439               Moonlight        2016            111.0   \n",
       "1465       Chernobyl Diaries        2012             86.0   \n",
       "...                      ...         ...              ...   \n",
       "1434  Independence Daysaster        2013             90.0   \n",
       "378                   Midway        2019              NaN   \n",
       "1449       The Lion of Judah        2011             87.0   \n",
       "1450                 #Horror        2015            101.0   \n",
       "1589    Stories of Our Lives        2014             60.0   \n",
       "\n",
       "                       genres         roi   net_profit  profit_margin_percent  \n",
       "1464                   Horror  101.759490  100759490.0           10075.949000  \n",
       "1341                   Horror   59.170677  174512032.0            5817.067733  \n",
       "1245  Horror,Mystery,Thriller   51.073590  250367951.0            5007.359020  \n",
       "1439                    Drama   43.497008   63745512.0            4249.700800  \n",
       "1465  Horror,Mystery,Thriller   42.411721   41411721.0            4141.172100  \n",
       "...                       ...         ...          ...                    ...  \n",
       "1434  Action,Adventure,Sci-Fi    0.000000   -1800000.0            -100.000000  \n",
       "378      Action,Drama,History    0.000000  -59500000.0            -100.000000  \n",
       "1449                Animation    0.000000   -1500000.0            -100.000000  \n",
       "1450       Crime,Drama,Horror    0.000000   -1500000.0            -100.000000  \n",
       "1589                    Drama    0.000000     -15000.0            -100.000000  \n",
       "\n",
       "[1589 rows x 15 columns]"
      ]
     },
     "execution_count": 92,
     "metadata": {},
     "output_type": "execute_result"
    }
   ],
   "source": [
    "tn_imbd_combined_gal= tn_imbd_combined[tn_imbd_combined['movie'] != 'the gallows']\n",
    "tn_imbd_combined_gal.sort_values(\"roi\", ascending = False)"
   ]
  },
  {
   "cell_type": "code",
   "execution_count": 93,
   "id": "63e7e614-bd43-4437-9412-3cb616367c35",
   "metadata": {},
   "outputs": [
    {
     "data": {
      "text/plain": [
       "<AxesSubplot:xlabel='runtime_minutes', ylabel='roi'>"
      ]
     },
     "execution_count": 93,
     "metadata": {},
     "output_type": "execute_result"
    },
    {
     "data": {
      "image/png": "[encoded data removed]",
      "text/plain": [
       "<Figure size 432x288 with 1 Axes>"
      ]
     },
     "metadata": {
      "needs_background": "light"
     },
     "output_type": "display_data"
    }
   ],
   "source": [
    "tn_imbd_combined_gal.plot.scatter('runtime_minutes', 'roi')"
   ]
  },
  {
   "cell_type": "code",
   "execution_count": 94,
   "id": "ff8620cc-f4b4-480c-a72d-bef2e6f1800d",
   "metadata": {},
   "outputs": [
    {
     "data": {
      "text/plain": [
       "<AxesSubplot:xlabel='runtime_minutes', ylabel='net_profit'>"
      ]
     },
     "execution_count": 94,
     "metadata": {},
     "output_type": "execute_result"
    },
    {
     "data": {
      "image/png": "[encoded data removed]",
      "text/plain": [
       "<Figure size 432x288 with 1 Axes>"
      ]
     },
     "metadata": {
      "needs_background": "light"
     },
     "output_type": "display_data"
    }
   ],
   "source": [
    "tn_imbd_combined_gal.plot.scatter('runtime_minutes', 'net_profit')"
   ]
  },
  {
   "cell_type": "code",
   "execution_count": 95,
   "id": "4eee25d0-dd6c-472d-89fa-e8c36e94683c",
   "metadata": {},
   "outputs": [
    {
     "data": {
      "text/plain": [
       "<AxesSubplot:xlabel='runtime_minutes', ylabel='profit_margin_percent'>"
      ]
     },
     "execution_count": 95,
     "metadata": {},
     "output_type": "execute_result"
    },
    {
     "data": {
      "image/png": "[encoded data removed]",
      "text/plain": [
       "<Figure size 432x288 with 1 Axes>"
      ]
     },
     "metadata": {
      "needs_background": "light"
     },
     "output_type": "display_data"
    }
   ],
   "source": [
    "tn_imbd_combined_gal.plot.scatter('runtime_minutes', 'profit_margin_percent')"
   ]
  },
  {
   "cell_type": "code",
   "execution_count": null,
   "id": "c4b7fa63-db94-4379-a387-e6674c05d9da",
   "metadata": {},
   "outputs": [],
   "source": []
  },
  {
   "cell_type": "code",
   "execution_count": null,
   "id": "b126175b",
   "metadata": {},
   "outputs": [],
   "source": [
    "imdb_title_akas.info()"
   ]
  },
  {
   "cell_type": "code",
   "execution_count": null,
   "id": "e6856546-e496-4896-946b-f623a88115a4",
   "metadata": {},
   "outputs": [],
   "source": []
  },
  {
   "cell_type": "code",
   "execution_count": null,
   "id": "6005269b-08ca-449c-9688-d3159e0d57a0",
   "metadata": {},
   "outputs": [],
   "source": []
  },
  {
   "cell_type": "code",
   "execution_count": null,
   "id": "e84d0b84-0ba2-42c0-babb-8572165ae6ad",
   "metadata": {},
   "outputs": [],
   "source": []
  },
  {
   "cell_type": "code",
   "execution_count": null,
   "id": "cc477b3c",
   "metadata": {},
   "outputs": [],
   "source": [
    "imdb_title_akas.head()"
   ]
  },
  {
   "cell_type": "code",
   "execution_count": null,
   "id": "94878e7c",
   "metadata": {},
   "outputs": [],
   "source": [
    "imdb_title_akas['region'].value_counts()"
   ]
  },
  {
   "cell_type": "code",
   "execution_count": null,
   "id": "9d0cb500",
   "metadata": {},
   "outputs": [],
   "source": [
    "# Domestic vs Foreign Gross - markets\n"
   ]
  },
  {
   "cell_type": "code",
   "execution_count": null,
   "id": "3a440d5e",
   "metadata": {},
   "outputs": [],
   "source": []
  },
  {
   "cell_type": "code",
   "execution_count": null,
   "id": "1611283c",
   "metadata": {},
   "outputs": [],
   "source": []
  },
  {
   "cell_type": "code",
   "execution_count": null,
   "id": "c1723617",
   "metadata": {},
   "outputs": [],
   "source": []
  },
  {
   "cell_type": "code",
   "execution_count": null,
   "id": "2c1ed6fc",
   "metadata": {},
   "outputs": [],
   "source": []
  },
  {
   "cell_type": "code",
   "execution_count": null,
   "id": "08c53eb3",
   "metadata": {},
   "outputs": [],
   "source": []
  },
  {
   "cell_type": "code",
   "execution_count": null,
   "id": "8cbb9768",
   "metadata": {},
   "outputs": [],
   "source": []
  },
  {
   "cell_type": "code",
   "execution_count": null,
   "id": "ba27f409",
   "metadata": {},
   "outputs": [],
   "source": []
  },
  {
   "cell_type": "code",
   "execution_count": null,
   "id": "c3166622",
   "metadata": {},
   "outputs": [],
   "source": []
  },
  {
   "cell_type": "code",
   "execution_count": null,
   "id": "d8d60d3f",
   "metadata": {},
   "outputs": [],
   "source": []
  },
  {
   "cell_type": "code",
   "execution_count": null,
   "id": "fd16c5ac",
   "metadata": {},
   "outputs": [],
   "source": []
  },
  {
   "cell_type": "markdown",
   "id": "eb5e1466",
   "metadata": {},
   "source": [
    "#### Hoang's preliminary data exploration"
   ]
  },
  {
   "cell_type": "code",
   "execution_count": null,
   "id": "7895137f",
   "metadata": {},
   "outputs": [],
   "source": [
    "movie_gross = pd.read_csv(\"data/bom.movie_gross.csv\")"
   ]
  },
  {
   "cell_type": "code",
   "execution_count": null,
   "id": "dcb9e961",
   "metadata": {},
   "outputs": [],
   "source": [
    "movie_gross"
   ]
  },
  {
   "cell_type": "code",
   "execution_count": null,
   "id": "4412b6bd",
   "metadata": {},
   "outputs": [],
   "source": [
    "movie_gross.info()"
   ]
  },
  {
   "cell_type": "code",
   "execution_count": null,
   "id": "028dd287",
   "metadata": {},
   "outputs": [],
   "source": [
    "movie_gross = movie_gross.fillna(0)"
   ]
  },
  {
   "cell_type": "code",
   "execution_count": null,
   "id": "17e541b8",
   "metadata": {},
   "outputs": [],
   "source": [
    "movie_gross.head()"
   ]
  },
  {
   "cell_type": "code",
   "execution_count": null,
   "id": "ae27ecd0",
   "metadata": {},
   "outputs": [],
   "source": [
    "movie_gross.replace(',','', regex=True, inplace=True)"
   ]
  },
  {
   "cell_type": "code",
   "execution_count": null,
   "id": "d42a56c3",
   "metadata": {},
   "outputs": [],
   "source": [
    "movie_gross.head()"
   ]
  },
  {
   "cell_type": "code",
   "execution_count": null,
   "id": "8459e5f9",
   "metadata": {},
   "outputs": [],
   "source": [
    "movie_gross['foreign_gross'] = pd.to_numeric(movie_gross['foreign_gross'], downcast = 'float')"
   ]
  },
  {
   "cell_type": "code",
   "execution_count": null,
   "id": "1ed3b39c",
   "metadata": {},
   "outputs": [],
   "source": [
    "movie_gross.head()"
   ]
  },
  {
   "cell_type": "code",
   "execution_count": null,
   "id": "89fc6fe8",
   "metadata": {},
   "outputs": [],
   "source": [
    "movie_gross['total_gross'] = movie_gross['domestic_gross'] + movie_gross['foreign_gross']"
   ]
  },
  {
   "cell_type": "code",
   "execution_count": null,
   "id": "8a26c62b",
   "metadata": {},
   "outputs": [],
   "source": [
    "movie_gross_sorted = movie_gross.sort_values('total_gross', ascending = False)\n",
    "movie_gross_sorted.head(10)"
   ]
  },
  {
   "cell_type": "code",
   "execution_count": null,
   "id": "390d99fe",
   "metadata": {},
   "outputs": [],
   "source": [
    "title_basics = pd.read_csv('data/title.basics.csv')"
   ]
  },
  {
   "cell_type": "code",
   "execution_count": null,
   "id": "2dba9d52",
   "metadata": {},
   "outputs": [],
   "source": [
    "title_basics"
   ]
  },
  {
   "cell_type": "code",
   "execution_count": null,
   "id": "0d19c62e",
   "metadata": {},
   "outputs": [],
   "source": [
    "title_basics.info()"
   ]
  },
  {
   "cell_type": "code",
   "execution_count": null,
   "id": "be3b14bc",
   "metadata": {},
   "outputs": [],
   "source": [
    "title_gross_movie = movie_gross.merge(title_basics, how = 'inner', left_on = \"title\", right_on = \"primary_title\" )"
   ]
  },
  {
   "cell_type": "code",
   "execution_count": null,
   "id": "ad8e3b2e",
   "metadata": {},
   "outputs": [],
   "source": [
    "title_gross_movie_sorted = title_gross_movie.sort_values('total_gross', ascending = False)\n",
    "title_gross_movie_sorted.head(10)"
   ]
  },
  {
   "cell_type": "markdown",
   "id": "83fd2af7",
   "metadata": {},
   "source": [
    "#### Losing Values"
   ]
  },
  {
   "cell_type": "code",
   "execution_count": null,
   "id": "58a64722",
   "metadata": {},
   "outputs": [],
   "source": [
    "title_ratings = pd.read_csv('data/title.ratings.csv')"
   ]
  },
  {
   "cell_type": "code",
   "execution_count": null,
   "id": "904c765b",
   "metadata": {},
   "outputs": [],
   "source": [
    "title_ratings.info()"
   ]
  },
  {
   "cell_type": "code",
   "execution_count": null,
   "id": "185256f9",
   "metadata": {},
   "outputs": [],
   "source": [
    "title_ratings.head()"
   ]
  },
  {
   "cell_type": "code",
   "execution_count": null,
   "id": "c210c09d",
   "metadata": {},
   "outputs": [],
   "source": [
    "movie_title_gross_rating = title_gross_movie.merge(title_ratings, how = 'inner', on = \"tconst\" )"
   ]
  },
  {
   "cell_type": "code",
   "execution_count": null,
   "id": "11b36eba",
   "metadata": {},
   "outputs": [],
   "source": [
    "movie_title_gross_rating.head()"
   ]
  },
  {
   "cell_type": "code",
   "execution_count": null,
   "id": "4ab6291d",
   "metadata": {},
   "outputs": [],
   "source": [
    "movie_title_gross_rating_sorted = movie_title_gross_rating.sort_values('total_gross', ascending = False)\n",
    "movie_title_gross_rating_sorted.head(10)"
   ]
  },
  {
   "cell_type": "code",
   "execution_count": null,
   "id": "2db05182",
   "metadata": {},
   "outputs": [],
   "source": [
    "movie_title_gross_rating.plot.scatter('averagerating', 'total_gross')"
   ]
  },
  {
   "cell_type": "code",
   "execution_count": null,
   "id": "7d25a608",
   "metadata": {},
   "outputs": [],
   "source": [
    "movie_title_gross_rating.plot.bar('genres', 'total_gross')"
   ]
  },
  {
   "cell_type": "code",
   "execution_count": null,
   "id": "21e8ab56",
   "metadata": {},
   "outputs": [],
   "source": [
    "movie_title_gross_rating.plot.scatter('start_year', 'total_gross')"
   ]
  },
  {
   "cell_type": "code",
   "execution_count": null,
   "id": "2908642b",
   "metadata": {},
   "outputs": [],
   "source": [
    "movie_title_gross_rating.plot.scatter('runtime_minutes', 'total_gross')"
   ]
  },
  {
   "cell_type": "code",
   "execution_count": null,
   "id": "3f210ab9",
   "metadata": {},
   "outputs": [],
   "source": [
    "movie_title_gross_rating.plot.scatter('numvotes', 'total_gross')"
   ]
  },
  {
   "cell_type": "code",
   "execution_count": null,
   "id": "86b90b46",
   "metadata": {},
   "outputs": [],
   "source": [
    "name_basic = pd.read_csv('data/name.basics.csv')"
   ]
  },
  {
   "cell_type": "code",
   "execution_count": null,
   "id": "8d007eaf",
   "metadata": {},
   "outputs": [],
   "source": [
    "name_basic.head()"
   ]
  },
  {
   "cell_type": "code",
   "execution_count": null,
   "id": "99526404",
   "metadata": {},
   "outputs": [],
   "source": [
    "name_basic.info()"
   ]
  },
  {
   "cell_type": "code",
   "execution_count": null,
   "id": "c77b416b",
   "metadata": {},
   "outputs": [],
   "source": [
    "rt_movie_info = pd.read_csv('data/rt.movie_info.tsv', sep='\\t')"
   ]
  },
  {
   "cell_type": "code",
   "execution_count": null,
   "id": "5beab893",
   "metadata": {},
   "outputs": [],
   "source": [
    "rt_movie_info.head()"
   ]
  },
  {
   "cell_type": "code",
   "execution_count": null,
   "id": "4e8ccaa4",
   "metadata": {},
   "outputs": [],
   "source": [
    "rt_movie_info.info()"
   ]
  },
  {
   "cell_type": "code",
   "execution_count": null,
   "id": "86cef672",
   "metadata": {},
   "outputs": [],
   "source": [
    "rt_reviews = pd.read_csv('data/rt.reviews.tsv', sep='\\t',  encoding='windows-1252')"
   ]
  },
  {
   "cell_type": "code",
   "execution_count": null,
   "id": "66d63e32",
   "metadata": {},
   "outputs": [],
   "source": [
    "rt_reviews.head()"
   ]
  },
  {
   "cell_type": "code",
   "execution_count": null,
   "id": "0283b06f",
   "metadata": {},
   "outputs": [],
   "source": [
    "rt_reviews.info()"
   ]
  },
  {
   "cell_type": "code",
   "execution_count": null,
   "id": "650975dc",
   "metadata": {},
   "outputs": [],
   "source": [
    "title_akas = pd.read_csv('data/title.akas.csv')"
   ]
  },
  {
   "cell_type": "code",
   "execution_count": null,
   "id": "87bef948",
   "metadata": {},
   "outputs": [],
   "source": [
    "title_akas.head()"
   ]
  },
  {
   "cell_type": "code",
   "execution_count": null,
   "id": "5e54580d",
   "metadata": {},
   "outputs": [],
   "source": [
    "title_akas.info()"
   ]
  },
  {
   "cell_type": "code",
   "execution_count": null,
   "id": "0242cb5e",
   "metadata": {},
   "outputs": [],
   "source": [
    "title_crew = pd.read_csv('data/title.crew.csv')"
   ]
  },
  {
   "cell_type": "code",
   "execution_count": null,
   "id": "513b4665",
   "metadata": {},
   "outputs": [],
   "source": [
    "title_crew.head()"
   ]
  },
  {
   "cell_type": "code",
   "execution_count": null,
   "id": "43e7d57f",
   "metadata": {},
   "outputs": [],
   "source": [
    "title_crew.info()"
   ]
  },
  {
   "cell_type": "code",
   "execution_count": null,
   "id": "448253da",
   "metadata": {},
   "outputs": [],
   "source": [
    "title_principals = pd.read_csv('data/title.principals.csv')"
   ]
  },
  {
   "cell_type": "code",
   "execution_count": null,
   "id": "542b64a6",
   "metadata": {},
   "outputs": [],
   "source": [
    "title_principals.head()"
   ]
  },
  {
   "cell_type": "code",
   "execution_count": null,
   "id": "dd8c740b",
   "metadata": {},
   "outputs": [],
   "source": [
    "tmdb_movies = pd.read_csv('data/tmdb.movies.csv')"
   ]
  },
  {
   "cell_type": "code",
   "execution_count": null,
   "id": "bfb35f2a",
   "metadata": {},
   "outputs": [],
   "source": [
    "tmdb_movies.head()"
   ]
  },
  {
   "cell_type": "code",
   "execution_count": null,
   "id": "1ffc625b",
   "metadata": {},
   "outputs": [],
   "source": [
    "tmdb_movies.info()"
   ]
  },
  {
   "cell_type": "code",
   "execution_count": null,
   "id": "622c8923",
   "metadata": {},
   "outputs": [],
   "source": [
    "tn_movie_budget = pd.read_csv('data/tn.movie_budgets.csv')"
   ]
  },
  {
   "cell_type": "code",
   "execution_count": null,
   "id": "a4e2b37a",
   "metadata": {},
   "outputs": [],
   "source": [
    "tn_movie_budget.head()"
   ]
  },
  {
   "cell_type": "code",
   "execution_count": null,
   "id": "bc07dc14",
   "metadata": {},
   "outputs": [],
   "source": [
    "tn_movie_budget.info()"
   ]
  },
  {
   "cell_type": "code",
   "execution_count": null,
   "id": "496d31ec",
   "metadata": {},
   "outputs": [],
   "source": []
  },
  {
   "cell_type": "code",
   "execution_count": null,
   "id": "850c2a0f",
   "metadata": {},
   "outputs": [],
   "source": []
  }
 ],
 "metadata": {
  "kernelspec": {
   "display_name": "Python 3 (ipykernel)",
   "language": "python",
   "name": "python3"
  },
  "language_info": {
   "codemirror_mode": {
    "name": "ipython",
    "version": 3
   },
   "file_extension": ".py",
   "mimetype": "text/x-python",
   "name": "python",
   "nbconvert_exporter": "python",
   "pygments_lexer": "ipython3",
   "version": "3.9.7"
  }
 },
 "nbformat": 4,
 "nbformat_minor": 5
}
