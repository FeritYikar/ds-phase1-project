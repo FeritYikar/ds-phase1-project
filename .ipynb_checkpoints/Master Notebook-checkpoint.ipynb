{
 "cells": [
  {
   "cell_type": "code",
   "execution_count": 1,
   "metadata": {},
   "outputs": [],
   "source": [
    "import pandas as pd\n",
    "\n",
    "#Imdb dataset\n",
    "imdb_title_basics = pd.read_csv('data/title.basics.csv')\n",
    "imdb_title_akas = pd.read_csv('data/title.akas.csv')\n",
    "imdb_title_crew = pd.read_csv('data/title.crew.csv')\n",
    "imdb_title_principals = pd.read_csv('data/title.principals.csv')\n",
    "imdb_name_basics = pd.read_csv('data/name.basics.csv')\n",
    "imdb_title_ratings = pd.read_csv('data/title.ratings.csv')\n",
    "#Rotten tomato dataset\n",
    "rt_movie_info = pd.read_csv('data/rt.movie_info.tsv', delimiter=\"\\t\")\n",
    "rt_reviews = pd.read_csv('data/rt.reviews.tsv', delimiter=\"\\t\", encoding='latin-1')\n",
    "#Box office Mojo dataset\n",
    "bom_movie_gross = pd.read_csv('data/bom.movie_gross.csv')\n",
    "#The movies DB dataset\n",
    "tmdb_movies = pd.read_csv('data/tmdb.movies.csv')\n",
    "# The numbers dataset\n",
    "tn_movies_budgets = pd.read_csv('data/tn.movie_budgets.csv')\n"
   ]
  },
  {
   "cell_type": "code",
   "execution_count": null,
   "metadata": {},
   "outputs": [],
   "source": []
  }
 ],
 "metadata": {
  "kernelspec": {
   "display_name": "Python 3 (ipykernel)",
   "language": "python",
   "name": "python3"
  },
  "language_info": {
   "codemirror_mode": {
    "name": "ipython",
    "version": 3
   },
   "file_extension": ".py",
   "mimetype": "text/x-python",
   "name": "python",
   "nbconvert_exporter": "python",
   "pygments_lexer": "ipython3",
   "version": "3.8.12"
  }
 },
 "nbformat": 4,
 "nbformat_minor": 5
}
