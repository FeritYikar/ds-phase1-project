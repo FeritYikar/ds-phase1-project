{
 "cells": [
  {
   "cell_type": "markdown",
   "metadata": {},
   "source": [
    "## Final Project Submission\n",
    "\n",
    "Please fill out:\n",
    "* Student name: Abass Ibrahim\n",
    "* Student pace: Full time\n",
    "* Scheduled project review date/time: \n",
    "* Instructor name: \n",
    "* Blog post URL:\n"
   ]
  },
  {
   "cell_type": "code",
   "execution_count": 2,
   "metadata": {},
   "outputs": [],
   "source": [
    "#Imdb dataset\n",
    "imdb_title_basics = pd.read_csv('data/title.basics.csv')\n",
    "imdb_title_akas = pd.read_csv('data/title.akas.csv')\n",
    "imdb_title_crew = pd.read_csv('data/title.crew.csv')\n",
    "imdb_title_principals = pd.read_csv('data/title.principals.csv')\n",
    "imdb_name_basics = pd.read_csv('data/name.basics.csv')\n",
    "imdb_title_ratings = pd.read_csv('data/title.ratings.csv')\n",
    "\n",
    "#Rotten tomato dataset\n",
    "rt_movie_info = pd.read_csv('data/rt.movie_info.tsv', delimiter=\"\\t\")\n",
    "rt_reviews = pd.read_csv('data/rt.reviews.tsv', delimiter=\"\\t\", encoding='latin-1')\n",
    "\n",
    "#Box office Mojo dataset\n",
    "bom_movie_gross = pd.read_csv('data/bom.movie_gross.csv')\n",
    "\n",
    "#The movies DB dataset\n",
    "tmdb_movies = pd.read_csv('data/tmdb.movies.csv')\n",
    "\n",
    "# The numbers dataset\n",
    "tn_movies_budgets = pd.read_csv('data/tn.movie_budgets.csv')"
   ]
  }
 ],
 "metadata": {
  "kernelspec": {
   "display_name": "Python (learn-env)",
   "language": "python",
   "name": "learn-env"
  },
  "language_info": {
   "codemirror_mode": {
    "name": "ipython",
    "version": 3
   },
   "file_extension": ".py",
   "mimetype": "text/x-python",
   "name": "python",
   "nbconvert_exporter": "python",
   "pygments_lexer": "ipython3",
   "version": "3.8.5"
  }
 },
 "nbformat": 4,
 "nbformat_minor": 2
}
