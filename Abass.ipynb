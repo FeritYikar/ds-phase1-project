{
 "cells": [
  {
   "cell_type": "markdown",
   "metadata": {},
   "source": [
    "# LIST OF FILES\n",
    "### PRIORITIES \n",
    ">title.basics**.csv** <br>\n",
    ">title.ratings**.csv** <br>\n",
    ">bom.movie_gross**.csv** <br>\n",
    "### SECONDARIES\n",
    ">name.basics**.csv** <br>\n",
    ">title.akas**.csv** <br>\n",
    ">title.crew**.csv** <br>\n",
    ">title.principals**.csv** <br>\n",
    ">tmdbs.movies**.csv** <br>\n",
    ">tn.movie_budgets**.csv** <br>\n",
    ">rt.movie_info**.tsv** <br>\n",
    ">rt.reviews**.tsv** <br>"
   ]
  },
  {
   "cell_type": "markdown",
   "metadata": {},
   "source": [
    "### Import Necessary libraries for EDA"
   ]
  },
  {
   "cell_type": "code",
   "execution_count": 9,
   "metadata": {},
   "outputs": [],
   "source": [
    "import pandas as pd\n",
    "import matplotlib.pyplot as plt\n",
    "import numpy as np\n",
    "from collections import Counter\n",
    "from scipy.stats import gaussian_kde"
   ]
  },
  {
   "cell_type": "code",
   "execution_count": 174,
   "metadata": {},
   "outputs": [],
   "source": [
    "#Imdb dataset\n",
    "imdb_title_basics = pd.read_csv('data/title.basics.csv')\n",
    "imdb_title_akas = pd.read_csv('data/title.akas.csv')\n",
    "imdb_title_crew = pd.read_csv('data/title.crew.csv')\n",
    "imdb_title_principals = pd.read_csv('data/title.principals.csv')\n",
    "imdb_name_basics = pd.read_csv('data/name.basics.csv')\n",
    "imdb_title_ratings = pd.read_csv('data/title.ratings.csv')\n",
    "\n",
    "#Rotten tomato dataset\n",
    "rt_movie_info = pd.read_csv('data/rt.movie_info.tsv', delimiter=\"\\t\")\n",
    "rt_reviews = pd.read_csv('data/rt.reviews.tsv', delimiter=\"\\t\", encoding='latin-1')\n",
    "\n",
    "#Box office Mojo dataset\n",
    "bom_movie_gross = pd.read_csv('data/bom.movie_gross.csv')\n",
    "\n",
    "#The movies DB dataset\n",
    "tmdb_movies = pd.read_csv('data/tmdb.movies.csv')\n",
    "\n",
    "# The numbers dataset\n",
    "tn_movies_budgets = pd.read_csv('data/tn.movie_budgets.csv')"
   ]
  },
  {
   "cell_type": "code",
   "execution_count": 9,
   "metadata": {},
   "outputs": [
    {
     "name": "stdout",
     "output_type": "stream",
     "text": [
      "<class 'pandas.core.frame.DataFrame'>\n",
      "RangeIndex: 146144 entries, 0 to 146143\n",
      "Data columns (total 6 columns):\n",
      " #   Column           Non-Null Count   Dtype  \n",
      "---  ------           --------------   -----  \n",
      " 0   tconst           146144 non-null  object \n",
      " 1   primary_title    146144 non-null  object \n",
      " 2   original_title   146123 non-null  object \n",
      " 3   start_year       146144 non-null  int64  \n",
      " 4   runtime_minutes  114405 non-null  float64\n",
      " 5   genres           140736 non-null  object \n",
      "dtypes: float64(1), int64(1), object(4)\n",
      "memory usage: 6.7+ MB\n"
     ]
    }
   ],
   "source": [
    "imdb_title_basics.info()\n",
    "# over 40,000 rows missing in runtime_minutes. Suggestion is to fill NaNs with mean\n",
    "# over 5000 rows missing in genres. Suggestion is NOT to fill with modal as this woudl greatly skew results.\n",
    "    # Suggestion is to drop those rows"
   ]
  },
  {
   "cell_type": "code",
   "execution_count": 13,
   "metadata": {},
   "outputs": [],
   "source": [
    "# Create a new dataframe that removes null values from the genres column\n",
    "# I have decided not to use the \"inplace\" argument so we preserve the original dataframe\n",
    "df_title_basics_no_genre_na = imdb_title_basics.dropna(subset=['genres'])"
   ]
  },
  {
   "cell_type": "code",
   "execution_count": 14,
   "metadata": {},
   "outputs": [],
   "source": [
    "# All of this is to calculate the frequency of genres in the dataframe.\n",
    "\n",
    "# Majority of movies have multiple genres so we must extract each row's genres and place them into a list\n",
    "# the resulting variable is a list of lists where each list within the total list is a combination of genres\n",
    "combination_of_genres = []\n",
    "for i in df_title_basics_no_genre_na['genres'].to_list():\n",
    "    combination_of_genres.append(i.split(','))\n",
    "\n",
    "# Now we must extract those combinations of genres and make a single list that contains all entries of each genre\n",
    "all_genres = []\n",
    "for i in combination_of_genres:\n",
    "    for element in i:\n",
    "        all_genres.extend(i)\n",
    "\n",
    "# We form a dictionary of the frequency of each genre in the \"all_genre\" list\n",
    "genre_count = dict(Counter(all_genres))\n",
    "\n",
    "# We also extract the unique genre names from that list\n",
    "unique_genres = set(genre_count.keys())"
   ]
  },
  {
   "cell_type": "code",
   "execution_count": 41,
   "metadata": {},
   "outputs": [
    {
     "data": {
      "text/html": [
       "<div>\n",
       "<style scoped>\n",
       "    .dataframe tbody tr th:only-of-type {\n",
       "        vertical-align: middle;\n",
       "    }\n",
       "\n",
       "    .dataframe tbody tr th {\n",
       "        vertical-align: top;\n",
       "    }\n",
       "\n",
       "    .dataframe thead th {\n",
       "        text-align: right;\n",
       "    }\n",
       "</style>\n",
       "<table border=\"1\" class=\"dataframe\">\n",
       "  <thead>\n",
       "    <tr style=\"text-align: right;\">\n",
       "      <th></th>\n",
       "      <th>tconst</th>\n",
       "      <th>primary_title</th>\n",
       "      <th>original_title</th>\n",
       "      <th>start_year</th>\n",
       "      <th>runtime_minutes</th>\n",
       "      <th>genres</th>\n",
       "    </tr>\n",
       "  </thead>\n",
       "  <tbody>\n",
       "    <tr>\n",
       "      <th>0</th>\n",
       "      <td>tt0063540</td>\n",
       "      <td>Sunghursh</td>\n",
       "      <td>Sunghursh</td>\n",
       "      <td>2013</td>\n",
       "      <td>175.0</td>\n",
       "      <td>Action,Crime,Drama</td>\n",
       "    </tr>\n",
       "    <tr>\n",
       "      <th>1</th>\n",
       "      <td>tt0066787</td>\n",
       "      <td>One Day Before the Rainy Season</td>\n",
       "      <td>Ashad Ka Ek Din</td>\n",
       "      <td>2019</td>\n",
       "      <td>114.0</td>\n",
       "      <td>Biography,Drama</td>\n",
       "    </tr>\n",
       "    <tr>\n",
       "      <th>2</th>\n",
       "      <td>tt0069049</td>\n",
       "      <td>The Other Side of the Wind</td>\n",
       "      <td>The Other Side of the Wind</td>\n",
       "      <td>2018</td>\n",
       "      <td>122.0</td>\n",
       "      <td>Drama</td>\n",
       "    </tr>\n",
       "    <tr>\n",
       "      <th>3</th>\n",
       "      <td>tt0069204</td>\n",
       "      <td>Sabse Bada Sukh</td>\n",
       "      <td>Sabse Bada Sukh</td>\n",
       "      <td>2018</td>\n",
       "      <td>NaN</td>\n",
       "      <td>Comedy,Drama</td>\n",
       "    </tr>\n",
       "    <tr>\n",
       "      <th>4</th>\n",
       "      <td>tt0100275</td>\n",
       "      <td>The Wandering Soap Opera</td>\n",
       "      <td>La Telenovela Errante</td>\n",
       "      <td>2017</td>\n",
       "      <td>80.0</td>\n",
       "      <td>Comedy,Drama,Fantasy</td>\n",
       "    </tr>\n",
       "  </tbody>\n",
       "</table>\n",
       "</div>"
      ],
      "text/plain": [
       "      tconst                    primary_title              original_title  \\\n",
       "0  tt0063540                        Sunghursh                   Sunghursh   \n",
       "1  tt0066787  One Day Before the Rainy Season             Ashad Ka Ek Din   \n",
       "2  tt0069049       The Other Side of the Wind  The Other Side of the Wind   \n",
       "3  tt0069204                  Sabse Bada Sukh             Sabse Bada Sukh   \n",
       "4  tt0100275         The Wandering Soap Opera       La Telenovela Errante   \n",
       "\n",
       "   start_year  runtime_minutes                genres  \n",
       "0        2013            175.0    Action,Crime,Drama  \n",
       "1        2019            114.0       Biography,Drama  \n",
       "2        2018            122.0                 Drama  \n",
       "3        2018              NaN          Comedy,Drama  \n",
       "4        2017             80.0  Comedy,Drama,Fantasy  "
      ]
     },
     "execution_count": 41,
     "metadata": {},
     "output_type": "execute_result"
    }
   ],
   "source": [
    "imdb_title_basics.head()"
   ]
  },
  {
   "cell_type": "code",
   "execution_count": 16,
   "metadata": {
    "scrolled": true
   },
   "outputs": [],
   "source": [
    "# We sort the dictionary by frequency and make a new variable\n",
    "genre_count_sorted = dict(sorted(genre_count.items(), reverse=True, key=lambda item: item[1]))"
   ]
  },
  {
   "cell_type": "code",
   "execution_count": 17,
   "metadata": {},
   "outputs": [
    {
     "data": {
      "image/png": "[encoded data removed]",
      "text/plain": [
       "<Figure size 432x288 with 1 Axes>"
      ]
     },
     "metadata": {
      "needs_background": "light"
     },
     "output_type": "display_data"
    }
   ],
   "source": [
    "top_5_genres, ax = plt.subplots()\n",
    "plt.barh(\n",
    "        list(genre_count_sorted.keys())[0:5],\n",
    "        list(genre_count_sorted.values())[0:5]\n",
    "        )\n",
    "ax.set_title('Top 5 most popular genres')\n",
    "ax.set_xlabel('Frequency')\n",
    "ax.set_ylabel('Genre')\n",
    "ax.invert_yaxis();"
   ]
  },
  {
   "cell_type": "code",
   "execution_count": 18,
   "metadata": {
    "scrolled": true
   },
   "outputs": [
    {
     "data": {
      "image/png": "[encoded data removed]",
      "text/plain": [
       "<Figure size 432x288 with 1 Axes>"
      ]
     },
     "metadata": {
      "needs_background": "light"
     },
     "output_type": "display_data"
    }
   ],
   "source": [
    "bottom_five_genres, ax = plt.subplots()\n",
    "plt.barh(\n",
    "        list(genre_count_sorted.keys())[-5:],\n",
    "        list(genre_count_sorted.values())[-5:]\n",
    "        )\n",
    "ax.set_title('Top 5 least popular genres')\n",
    "ax.set_xlabel('Frequency')\n",
    "ax.set_ylabel('Genre')\n",
    "ax.invert_yaxis()"
   ]
  },
  {
   "cell_type": "code",
   "execution_count": 42,
   "metadata": {},
   "outputs": [
    {
     "data": {
      "image/png": "[encoded data removed]",
      "text/plain": [
       "<Figure size 432x288 with 1 Axes>"
      ]
     },
     "metadata": {
      "needs_background": "light"
     },
     "output_type": "display_data"
    }
   ],
   "source": [
    "top_five_genre_combinations, ax = plt.subplots()\n",
    "plt.barh(\n",
    "        list(genre_count_sorted.keys())[7:12],\n",
    "        list(genre_count_sorted.values())[7:12]\n",
    "        )\n",
    "ax.set_title('Top 5 most popular genre combinations')\n",
    "ax.set_xlabel('Frequency')\n",
    "ax.set_ylabel('Genre')\n",
    "ax.invert_yaxis()\n"
   ]
  },
  {
   "cell_type": "markdown",
   "metadata": {},
   "source": [
    "### Summary of title.basics.csv\n",
    "#### General\n",
    "Description: This csv simply gives a breakdown of 146,144 movies and their respective genres. <br>\n",
    "Columns: **tconst(maybe unique_id)**, **primary_title**, **original_title**, **start_year**, **runtime_minutes**, **genres**\n",
    "#### Quantitative\n",
    "Unique genres: **27 uinque genres** <br>\n",
    "List of genres: **1085 genres**. Each movie contains multiple genres <br>\n",
    "Range of years: 2115 is an outlier. Range is **2017 - 2025 with the modal being 2017** <br>\n",
    "Average runtime minutes: **86 mins**<br>\n",
    "Total no. of movies: **146144** <br>\n",
    "Tconst appears to be a unique identifier for the titles. Will be useful when joining other dataframes <br>\n",
    "\n",
    "#### Data Cleaning\n",
    "- Created a new dataframe that drops all rows that have no values for genres"
   ]
  },
  {
   "cell_type": "code",
   "execution_count": 25,
   "metadata": {},
   "outputs": [
    {
     "name": "stdout",
     "output_type": "stream",
     "text": [
      "<class 'pandas.core.frame.DataFrame'>\n",
      "RangeIndex: 73856 entries, 0 to 73855\n",
      "Data columns (total 3 columns):\n",
      " #   Column         Non-Null Count  Dtype  \n",
      "---  ------         --------------  -----  \n",
      " 0   tconst         73856 non-null  object \n",
      " 1   averagerating  73856 non-null  float64\n",
      " 2   numvotes       73856 non-null  int64  \n",
      "dtypes: float64(1), int64(1), object(1)\n",
      "memory usage: 1.7+ MB\n"
     ]
    }
   ],
   "source": [
    "# import title.ratings.csv\n",
    "df_title_ratings = pd.read_csv('data/title.ratings.csv')\n",
    "df_title_ratings.info()"
   ]
  },
  {
   "cell_type": "code",
   "execution_count": 27,
   "metadata": {},
   "outputs": [
    {
     "name": "stdout",
     "output_type": "stream",
     "text": [
      "<class 'pandas.core.frame.DataFrame'>\n",
      "Int64Index: 73856 entries, 0 to 73855\n",
      "Data columns (total 8 columns):\n",
      " #   Column           Non-Null Count  Dtype  \n",
      "---  ------           --------------  -----  \n",
      " 0   tconst           73856 non-null  object \n",
      " 1   averagerating    73856 non-null  float64\n",
      " 2   numvotes         73856 non-null  int64  \n",
      " 3   primary_title    73856 non-null  object \n",
      " 4   original_title   73856 non-null  object \n",
      " 5   start_year       73856 non-null  int64  \n",
      " 6   runtime_minutes  66236 non-null  float64\n",
      " 7   genres           73052 non-null  object \n",
      "dtypes: float64(2), int64(2), object(4)\n",
      "memory usage: 5.1+ MB\n"
     ]
    }
   ],
   "source": [
    "ratings_basics = imdb_title_ratings.merge(imdb_title_basics, how='inner', left_on='tconst', right_on='tconst')\n",
    "top_5_rated_genres = ratings_basics.groupby(by=['genres'])['averagerating'].mean().sort_values(ascending=False)\n",
    "ratings_basics.info()"
   ]
  },
  {
   "cell_type": "code",
   "execution_count": 28,
   "metadata": {},
   "outputs": [
    {
     "data": {
      "image/png": "[encoded data removed]",
      "text/plain": [
       "<Figure size 432x288 with 1 Axes>"
      ]
     },
     "metadata": {
      "needs_background": "light"
     },
     "output_type": "display_data"
    }
   ],
   "source": [
    "top_5_rated_genres_bar, ax = plt.subplots()\n",
    "plt.barh(\n",
    "        list(top_5_rated_genres.keys())[0:5], \n",
    "        list(top_5_rated_genres.iloc[0:5])\n",
    "        )\n",
    "ax.set_title('Top 5 rated genres')\n",
    "ax.set_xlabel('Average rating')\n",
    "ax.set_ylabel('Genre')\n",
    "ax.invert_yaxis();\n"
   ]
  },
  {
   "cell_type": "markdown",
   "metadata": {},
   "source": [
    "## Budget EDA\n",
    ">**tv_movies_budgets.csv** <br>\n",
    "Our main focus we'll be measuring profit against budget and analyse any possible correlations. To form profit, we need revenue and cost values. As such, the only suitable table to achieve this is tv_movies_budgets.csv"
   ]
  },
  {
   "cell_type": "markdown",
   "metadata": {},
   "source": [
    "### Data Cleaning"
   ]
  },
  {
   "cell_type": "code",
   "execution_count": 175,
   "metadata": {},
   "outputs": [
    {
     "name": "stdout",
     "output_type": "stream",
     "text": [
      "<class 'pandas.core.frame.DataFrame'>\n",
      "RangeIndex: 5782 entries, 0 to 5781\n",
      "Data columns (total 6 columns):\n",
      " #   Column             Non-Null Count  Dtype \n",
      "---  ------             --------------  ----- \n",
      " 0   id                 5782 non-null   int64 \n",
      " 1   release_date       5782 non-null   object\n",
      " 2   movie              5782 non-null   object\n",
      " 3   production_budget  5782 non-null   object\n",
      " 4   domestic_gross     5782 non-null   object\n",
      " 5   worldwide_gross    5782 non-null   object\n",
      "dtypes: int64(1), object(5)\n",
      "memory usage: 271.2+ KB\n"
     ]
    }
   ],
   "source": [
    "# First we much check to see if there are any missing values. Thankfully there are non.\n",
    "# But we do see there are issues with the datatypes. \n",
    "#     Both gross figures and budget figures are objects but they need to either be int or float\n",
    "#     The release date should also either be in datetime or int\n",
    "tn_movies_budgets.info()"
   ]
  },
  {
   "cell_type": "code",
   "execution_count": 177,
   "metadata": {},
   "outputs": [
    {
     "data": {
      "text/html": [
       "<div>\n",
       "<style scoped>\n",
       "    .dataframe tbody tr th:only-of-type {\n",
       "        vertical-align: middle;\n",
       "    }\n",
       "\n",
       "    .dataframe tbody tr th {\n",
       "        vertical-align: top;\n",
       "    }\n",
       "\n",
       "    .dataframe thead th {\n",
       "        text-align: right;\n",
       "    }\n",
       "</style>\n",
       "<table border=\"1\" class=\"dataframe\">\n",
       "  <thead>\n",
       "    <tr style=\"text-align: right;\">\n",
       "      <th></th>\n",
       "      <th>id</th>\n",
       "      <th>release_date</th>\n",
       "      <th>movie</th>\n",
       "      <th>production_budget</th>\n",
       "      <th>domestic_gross</th>\n",
       "      <th>worldwide_gross</th>\n",
       "    </tr>\n",
       "  </thead>\n",
       "  <tbody>\n",
       "    <tr>\n",
       "      <th>0</th>\n",
       "      <td>1</td>\n",
       "      <td>Dec 18, 2009</td>\n",
       "      <td>Avatar</td>\n",
       "      <td>$425,000,000</td>\n",
       "      <td>$760,507,625</td>\n",
       "      <td>$2,776,345,279</td>\n",
       "    </tr>\n",
       "    <tr>\n",
       "      <th>1</th>\n",
       "      <td>2</td>\n",
       "      <td>May 20, 2011</td>\n",
       "      <td>Pirates of the Caribbean: On Stranger Tides</td>\n",
       "      <td>$410,600,000</td>\n",
       "      <td>$241,063,875</td>\n",
       "      <td>$1,045,663,875</td>\n",
       "    </tr>\n",
       "    <tr>\n",
       "      <th>2</th>\n",
       "      <td>3</td>\n",
       "      <td>Jun 7, 2019</td>\n",
       "      <td>Dark Phoenix</td>\n",
       "      <td>$350,000,000</td>\n",
       "      <td>$42,762,350</td>\n",
       "      <td>$149,762,350</td>\n",
       "    </tr>\n",
       "    <tr>\n",
       "      <th>3</th>\n",
       "      <td>4</td>\n",
       "      <td>May 1, 2015</td>\n",
       "      <td>Avengers: Age of Ultron</td>\n",
       "      <td>$330,600,000</td>\n",
       "      <td>$459,005,868</td>\n",
       "      <td>$1,403,013,963</td>\n",
       "    </tr>\n",
       "    <tr>\n",
       "      <th>4</th>\n",
       "      <td>5</td>\n",
       "      <td>Dec 15, 2017</td>\n",
       "      <td>Star Wars Ep. VIII: The Last Jedi</td>\n",
       "      <td>$317,000,000</td>\n",
       "      <td>$620,181,382</td>\n",
       "      <td>$1,316,721,747</td>\n",
       "    </tr>\n",
       "  </tbody>\n",
       "</table>\n",
       "</div>"
      ],
      "text/plain": [
       "   id  release_date                                        movie  \\\n",
       "0   1  Dec 18, 2009                                       Avatar   \n",
       "1   2  May 20, 2011  Pirates of the Caribbean: On Stranger Tides   \n",
       "2   3   Jun 7, 2019                                 Dark Phoenix   \n",
       "3   4   May 1, 2015                      Avengers: Age of Ultron   \n",
       "4   5  Dec 15, 2017            Star Wars Ep. VIII: The Last Jedi   \n",
       "\n",
       "  production_budget domestic_gross worldwide_gross  \n",
       "0      $425,000,000   $760,507,625  $2,776,345,279  \n",
       "1      $410,600,000   $241,063,875  $1,045,663,875  \n",
       "2      $350,000,000    $42,762,350    $149,762,350  \n",
       "3      $330,600,000   $459,005,868  $1,403,013,963  \n",
       "4      $317,000,000   $620,181,382  $1,316,721,747  "
      ]
     },
     "execution_count": 177,
     "metadata": {},
     "output_type": "execute_result"
    }
   ],
   "source": [
    "# Problems:\n",
    "#    The financial figures should be stripped of the dollar sign and the commas and then converted to integers\n",
    "tn_movies_budgets.head()"
   ]
  },
  {
   "cell_type": "code",
   "execution_count": 178,
   "metadata": {},
   "outputs": [],
   "source": [
    "# We run this code to achieve the desired formatting for the financial figures on each coloumn needed\n",
    "\n",
    "tn_movies_budgets['production_budget'] = tn_movies_budgets['production_budget'].apply(lambda x: x.replace(',', ''))\n",
    "tn_movies_budgets['production_budget'] = tn_movies_budgets['production_budget'].apply(lambda x: x.replace('$', ''))\n",
    "tn_movies_budgets['production_budget'] = tn_movies_budgets['production_budget'].astype(int)\n",
    "\n",
    "tn_movies_budgets['domestic_gross'] = tn_movies_budgets['domestic_gross'].apply(lambda x: x.replace(',', ''))\n",
    "tn_movies_budgets['domestic_gross'] = tn_movies_budgets['domestic_gross'].apply(lambda x: x.replace('$', ''))\n",
    "tn_movies_budgets['domestic_gross'] = tn_movies_budgets['domestic_gross'].astype(int)\n",
    "\n",
    "tn_movies_budgets['worldwide_gross'] = tn_movies_budgets['worldwide_gross'].apply(lambda x: x.replace(',', ''))\n",
    "tn_movies_budgets['worldwide_gross'] = tn_movies_budgets['worldwide_gross'].apply(lambda x: x.replace('$', ''))\n",
    "tn_movies_budgets['worldwide_gross'] = tn_movies_budgets['worldwide_gross'].astype(int)"
   ]
  },
  {
   "cell_type": "code",
   "execution_count": 179,
   "metadata": {},
   "outputs": [
    {
     "data": {
      "text/html": [
       "<div>\n",
       "<style scoped>\n",
       "    .dataframe tbody tr th:only-of-type {\n",
       "        vertical-align: middle;\n",
       "    }\n",
       "\n",
       "    .dataframe tbody tr th {\n",
       "        vertical-align: top;\n",
       "    }\n",
       "\n",
       "    .dataframe thead th {\n",
       "        text-align: right;\n",
       "    }\n",
       "</style>\n",
       "<table border=\"1\" class=\"dataframe\">\n",
       "  <thead>\n",
       "    <tr style=\"text-align: right;\">\n",
       "      <th></th>\n",
       "      <th>id</th>\n",
       "      <th>release_date</th>\n",
       "      <th>movie</th>\n",
       "      <th>production_budget</th>\n",
       "      <th>domestic_gross</th>\n",
       "      <th>worldwide_gross</th>\n",
       "    </tr>\n",
       "  </thead>\n",
       "  <tbody>\n",
       "    <tr>\n",
       "      <th>0</th>\n",
       "      <td>1</td>\n",
       "      <td>Dec 18, 2009</td>\n",
       "      <td>Avatar</td>\n",
       "      <td>425000000</td>\n",
       "      <td>760507625</td>\n",
       "      <td>2776345279</td>\n",
       "    </tr>\n",
       "    <tr>\n",
       "      <th>1</th>\n",
       "      <td>2</td>\n",
       "      <td>May 20, 2011</td>\n",
       "      <td>Pirates of the Caribbean: On Stranger Tides</td>\n",
       "      <td>410600000</td>\n",
       "      <td>241063875</td>\n",
       "      <td>1045663875</td>\n",
       "    </tr>\n",
       "    <tr>\n",
       "      <th>2</th>\n",
       "      <td>3</td>\n",
       "      <td>Jun 7, 2019</td>\n",
       "      <td>Dark Phoenix</td>\n",
       "      <td>350000000</td>\n",
       "      <td>42762350</td>\n",
       "      <td>149762350</td>\n",
       "    </tr>\n",
       "    <tr>\n",
       "      <th>3</th>\n",
       "      <td>4</td>\n",
       "      <td>May 1, 2015</td>\n",
       "      <td>Avengers: Age of Ultron</td>\n",
       "      <td>330600000</td>\n",
       "      <td>459005868</td>\n",
       "      <td>1403013963</td>\n",
       "    </tr>\n",
       "    <tr>\n",
       "      <th>4</th>\n",
       "      <td>5</td>\n",
       "      <td>Dec 15, 2017</td>\n",
       "      <td>Star Wars Ep. VIII: The Last Jedi</td>\n",
       "      <td>317000000</td>\n",
       "      <td>620181382</td>\n",
       "      <td>1316721747</td>\n",
       "    </tr>\n",
       "  </tbody>\n",
       "</table>\n",
       "</div>"
      ],
      "text/plain": [
       "   id  release_date                                        movie  \\\n",
       "0   1  Dec 18, 2009                                       Avatar   \n",
       "1   2  May 20, 2011  Pirates of the Caribbean: On Stranger Tides   \n",
       "2   3   Jun 7, 2019                                 Dark Phoenix   \n",
       "3   4   May 1, 2015                      Avengers: Age of Ultron   \n",
       "4   5  Dec 15, 2017            Star Wars Ep. VIII: The Last Jedi   \n",
       "\n",
       "   production_budget  domestic_gross  worldwide_gross  \n",
       "0          425000000       760507625       2776345279  \n",
       "1          410600000       241063875       1045663875  \n",
       "2          350000000        42762350        149762350  \n",
       "3          330600000       459005868       1403013963  \n",
       "4          317000000       620181382       1316721747  "
      ]
     },
     "execution_count": 179,
     "metadata": {},
     "output_type": "execute_result"
    }
   ],
   "source": [
    "# We should be wary that, whilst there are no null values, there may be '0' values\n",
    "tn_movies_budgets.head()"
   ]
  },
  {
   "cell_type": "code",
   "execution_count": 231,
   "metadata": {},
   "outputs": [
    {
     "name": "stdout",
     "output_type": "stream",
     "text": [
      "production_budget_0_count: 0\n",
      "domestic_gross_0_count: 548\n",
      "worldwide_gross_count_0: 367\n"
     ]
    }
   ],
   "source": [
    "# We shall search for a count of these '0' values if they exist\n",
    "production_budget_0_count = (tn_movies_budgets['production_budget'] == 0).sum()\n",
    "domestic_gross_0_count = (tn_movies_budgets['domestic_gross'] == 0).sum()\n",
    "worldwide_gross_0_count = (tn_movies_budgets['worldwide_gross'] == 0).sum()\n",
    "\n",
    "print(f'production_budget_0_count: {production_budget_0_count}')\n",
    "print(f'domestic_gross_0_count: {domestic_gross_0_count}')\n",
    "print(f'worldwide_gross_count_0: {worldwide_gross_0_count}')\n",
    "\n",
    "# We can see there are hundreds of values missing in the domestic and gross count.\n",
    "# These are essentially null values and need to be dealt with before analysis"
   ]
  },
  {
   "cell_type": "code",
   "execution_count": 240,
   "metadata": {},
   "outputs": [
    {
     "name": "stdout",
     "output_type": "stream",
     "text": [
      "domestic_gross_mean: 41873326.867001034 | domestic_gross_median: 17225945.0\n",
      "worldwide_gross_mean: 91487460.90643376 | worldwide_gross_median: 27984448.5\n"
     ]
    }
   ],
   "source": [
    "# When dealing with null values, we can use the mean, median or drop the rows\n",
    "# Dropping rows is the last resort as preservation of data is important \n",
    "\n",
    "domestic_gross_mean = tn_movies_budgets['domestic_gross'].mean()\n",
    "worldwide_gross_mean = tn_movies_budgets['worldwide_gross'].mean()\n",
    "\n",
    "domestic_gross_median = tn_movies_budgets['domestic_gross'].median()\n",
    "worldwide_gross_median = tn_movies_budgets['worldwide_gross'].median()\n",
    "                        \n",
    "print(f'domestic_gross_mean: {domestic_gross_mean} | domestic_gross_median: {domestic_gross_median}')\n",
    "print(f'worldwide_gross_mean: {worldwide_gross_mean} | worldwide_gross_median: {worldwide_gross_median}')\n",
    "\n",
    "# As we see, the median is substatially lower than the mean. "
   ]
  },
  {
   "cell_type": "code",
   "execution_count": 264,
   "metadata": {},
   "outputs": [
    {
     "data": {
      "image/png": "[encoded data removed]",
      "text/plain": [
       "<Figure size 720x504 with 1 Axes>"
      ]
     },
     "metadata": {
      "needs_background": "light"
     },
     "output_type": "display_data"
    },
    {
     "data": {
      "image/png": "[encoded data removed]",
      "text/plain": [
       "<Figure size 720x504 with 1 Axes>"
      ]
     },
     "metadata": {
      "needs_background": "light"
     },
     "output_type": "display_data"
    }
   ],
   "source": [
    "fig, ax = plt.subplots(figsize=(10,7))\n",
    "ax.axhline(y=domestic_gross_mean, linewidth=1, color='r')\n",
    "plt.boxplot(tn_movies_budgets['domestic_gross'])\n",
    "ax.set_title('domestic_gross box plot');\n",
    "\n",
    "fig, ax = plt.subplots(figsize=(10,7))\n",
    "ax.axhline(y=worldwide_gross_mean, linewidth=1, color='r')\n",
    "plt.boxplot(tn_movies_budgets['worldwide_gross'])\n",
    "ax.set_title('worldwide_gross box plot');\n",
    "\n",
    "# From the boxplot, in both cases that there are many points beyond the 75th percentile. There is even an outlier.\n",
    "# Because of this, the mean (red line) is heavily skewed. \n",
    "# To mitigate this, the median (orange line) should be prioritised."
   ]
  },
  {
   "cell_type": "code",
   "execution_count": 257,
   "metadata": {},
   "outputs": [],
   "source": [
    "# We will replace each 0 value from the domestic_gross and worldwide_gross with their respective medians\n",
    "tn_movies_budgets['domestic_gross'] = tn_movies_budgets['domestic_gross'].apply(lambda x: domestic_gross_median if x==0 else x)\n",
    "tn_movies_budgets['worldwide_gross'] = tn_movies_budgets['worldwide_gross'].apply(lambda x: worldwide_gross_median if x==0 else x)                                                                                                                                                          \n",
    "                                                                                  "
   ]
  },
  {
   "cell_type": "code",
   "execution_count": 260,
   "metadata": {},
   "outputs": [
    {
     "data": {
      "text/plain": [
       "0       2009\n",
       "1       2011\n",
       "2       2019\n",
       "3       2015\n",
       "4       2017\n",
       "        ... \n",
       "5777    2018\n",
       "5778    1999\n",
       "5779    2005\n",
       "5780    2015\n",
       "5781    2005\n",
       "Name: release_date, Length: 5782, dtype: int64"
      ]
     },
     "execution_count": 260,
     "metadata": {},
     "output_type": "execute_result"
    }
   ],
   "source": [
    "# Ideally, we'd like to strip month and days from the dates and only leave the years as integers.\n",
    "# This allows us to use the years as categorical measurements\n",
    "tn_movies_budgets['release_date'] = tn_movies_budgets['release_date'].apply(lambda x: int(x[-4:]))\n",
    "tn_movies_budgets['release_date']"
   ]
  },
  {
   "cell_type": "markdown",
   "metadata": {},
   "source": [
    "### Analysis"
   ]
  },
  {
   "cell_type": "code",
   "execution_count": 282,
   "metadata": {},
   "outputs": [
    {
     "data": {
      "text/html": [
       "<div>\n",
       "<style scoped>\n",
       "    .dataframe tbody tr th:only-of-type {\n",
       "        vertical-align: middle;\n",
       "    }\n",
       "\n",
       "    .dataframe tbody tr th {\n",
       "        vertical-align: top;\n",
       "    }\n",
       "\n",
       "    .dataframe thead th {\n",
       "        text-align: right;\n",
       "    }\n",
       "</style>\n",
       "<table border=\"1\" class=\"dataframe\">\n",
       "  <thead>\n",
       "    <tr style=\"text-align: right;\">\n",
       "      <th></th>\n",
       "      <th>id</th>\n",
       "      <th>release_date</th>\n",
       "      <th>movie</th>\n",
       "      <th>production_budget</th>\n",
       "      <th>domestic_gross</th>\n",
       "      <th>worldwide_gross</th>\n",
       "    </tr>\n",
       "  </thead>\n",
       "  <tbody>\n",
       "    <tr>\n",
       "      <th>0</th>\n",
       "      <td>1</td>\n",
       "      <td>2009</td>\n",
       "      <td>Avatar</td>\n",
       "      <td>425000000</td>\n",
       "      <td>760507625.0</td>\n",
       "      <td>2.776345e+09</td>\n",
       "    </tr>\n",
       "    <tr>\n",
       "      <th>1</th>\n",
       "      <td>2</td>\n",
       "      <td>2011</td>\n",
       "      <td>Pirates of the Caribbean: On Stranger Tides</td>\n",
       "      <td>410600000</td>\n",
       "      <td>241063875.0</td>\n",
       "      <td>1.045664e+09</td>\n",
       "    </tr>\n",
       "    <tr>\n",
       "      <th>2</th>\n",
       "      <td>3</td>\n",
       "      <td>2019</td>\n",
       "      <td>Dark Phoenix</td>\n",
       "      <td>350000000</td>\n",
       "      <td>42762350.0</td>\n",
       "      <td>1.497624e+08</td>\n",
       "    </tr>\n",
       "    <tr>\n",
       "      <th>3</th>\n",
       "      <td>4</td>\n",
       "      <td>2015</td>\n",
       "      <td>Avengers: Age of Ultron</td>\n",
       "      <td>330600000</td>\n",
       "      <td>459005868.0</td>\n",
       "      <td>1.403014e+09</td>\n",
       "    </tr>\n",
       "    <tr>\n",
       "      <th>4</th>\n",
       "      <td>5</td>\n",
       "      <td>2017</td>\n",
       "      <td>Star Wars Ep. VIII: The Last Jedi</td>\n",
       "      <td>317000000</td>\n",
       "      <td>620181382.0</td>\n",
       "      <td>1.316722e+09</td>\n",
       "    </tr>\n",
       "    <tr>\n",
       "      <th>...</th>\n",
       "      <td>...</td>\n",
       "      <td>...</td>\n",
       "      <td>...</td>\n",
       "      <td>...</td>\n",
       "      <td>...</td>\n",
       "      <td>...</td>\n",
       "    </tr>\n",
       "    <tr>\n",
       "      <th>5777</th>\n",
       "      <td>78</td>\n",
       "      <td>2018</td>\n",
       "      <td>Red 11</td>\n",
       "      <td>7000</td>\n",
       "      <td>17225945.0</td>\n",
       "      <td>2.798445e+07</td>\n",
       "    </tr>\n",
       "    <tr>\n",
       "      <th>5778</th>\n",
       "      <td>79</td>\n",
       "      <td>1999</td>\n",
       "      <td>Following</td>\n",
       "      <td>6000</td>\n",
       "      <td>48482.0</td>\n",
       "      <td>2.404950e+05</td>\n",
       "    </tr>\n",
       "    <tr>\n",
       "      <th>5779</th>\n",
       "      <td>80</td>\n",
       "      <td>2005</td>\n",
       "      <td>Return to the Land of Wonders</td>\n",
       "      <td>5000</td>\n",
       "      <td>1338.0</td>\n",
       "      <td>1.338000e+03</td>\n",
       "    </tr>\n",
       "    <tr>\n",
       "      <th>5780</th>\n",
       "      <td>81</td>\n",
       "      <td>2015</td>\n",
       "      <td>A Plague So Pleasant</td>\n",
       "      <td>1400</td>\n",
       "      <td>17225945.0</td>\n",
       "      <td>2.798445e+07</td>\n",
       "    </tr>\n",
       "    <tr>\n",
       "      <th>5781</th>\n",
       "      <td>82</td>\n",
       "      <td>2005</td>\n",
       "      <td>My Date With Drew</td>\n",
       "      <td>1100</td>\n",
       "      <td>181041.0</td>\n",
       "      <td>1.810410e+05</td>\n",
       "    </tr>\n",
       "  </tbody>\n",
       "</table>\n",
       "<p>5782 rows × 6 columns</p>\n",
       "</div>"
      ],
      "text/plain": [
       "      id  release_date                                        movie  \\\n",
       "0      1          2009                                       Avatar   \n",
       "1      2          2011  Pirates of the Caribbean: On Stranger Tides   \n",
       "2      3          2019                                 Dark Phoenix   \n",
       "3      4          2015                      Avengers: Age of Ultron   \n",
       "4      5          2017            Star Wars Ep. VIII: The Last Jedi   \n",
       "...   ..           ...                                          ...   \n",
       "5777  78          2018                                       Red 11   \n",
       "5778  79          1999                                    Following   \n",
       "5779  80          2005                Return to the Land of Wonders   \n",
       "5780  81          2015                         A Plague So Pleasant   \n",
       "5781  82          2005                            My Date With Drew   \n",
       "\n",
       "      production_budget  domestic_gross  worldwide_gross  \n",
       "0             425000000     760507625.0     2.776345e+09  \n",
       "1             410600000     241063875.0     1.045664e+09  \n",
       "2             350000000      42762350.0     1.497624e+08  \n",
       "3             330600000     459005868.0     1.403014e+09  \n",
       "4             317000000     620181382.0     1.316722e+09  \n",
       "...                 ...             ...              ...  \n",
       "5777               7000      17225945.0     2.798445e+07  \n",
       "5778               6000         48482.0     2.404950e+05  \n",
       "5779               5000          1338.0     1.338000e+03  \n",
       "5780               1400      17225945.0     2.798445e+07  \n",
       "5781               1100        181041.0     1.810410e+05  \n",
       "\n",
       "[5782 rows x 6 columns]"
      ]
     },
     "execution_count": 282,
     "metadata": {},
     "output_type": "execute_result"
    }
   ],
   "source": [
    "# Now that the financial figures are numerical, we can create new columns based on simple calculations \n",
    "tn_movies_budgets"
   ]
  },
  {
   "cell_type": "code",
   "execution_count": 283,
   "metadata": {},
   "outputs": [],
   "source": [
    "# We should be careful not to claim that \"gross\"-'budget' = 'profit' as there may be other costs outside of production cost\n",
    "# To be safe, we shall call the new column production_return\n",
    "\n",
    "tn_movies_budgets['production_return'] = tn_movies_budgets['worldwide_gross'] - tn_movies_budgets['production_budget']\n",
    "\n",
    "# With this calculation, we shall standardise the production return values by expressing them as a percentage of the budget\n",
    "tn_movies_budgets['% production_return'] = tn_movies_budgets['production_return'] / tn_movies_budgets['worldwide_gross']"
   ]
  },
  {
   "cell_type": "code",
   "execution_count": 284,
   "metadata": {},
   "outputs": [
    {
     "data": {
      "text/html": [
       "<div>\n",
       "<style scoped>\n",
       "    .dataframe tbody tr th:only-of-type {\n",
       "        vertical-align: middle;\n",
       "    }\n",
       "\n",
       "    .dataframe tbody tr th {\n",
       "        vertical-align: top;\n",
       "    }\n",
       "\n",
       "    .dataframe thead th {\n",
       "        text-align: right;\n",
       "    }\n",
       "</style>\n",
       "<table border=\"1\" class=\"dataframe\">\n",
       "  <thead>\n",
       "    <tr style=\"text-align: right;\">\n",
       "      <th></th>\n",
       "      <th>id</th>\n",
       "      <th>release_date</th>\n",
       "      <th>movie</th>\n",
       "      <th>production_budget</th>\n",
       "      <th>domestic_gross</th>\n",
       "      <th>worldwide_gross</th>\n",
       "      <th>production_return</th>\n",
       "      <th>% production_return</th>\n",
       "    </tr>\n",
       "  </thead>\n",
       "  <tbody>\n",
       "    <tr>\n",
       "      <th>0</th>\n",
       "      <td>1</td>\n",
       "      <td>2009</td>\n",
       "      <td>Avatar</td>\n",
       "      <td>425000000</td>\n",
       "      <td>760507625.0</td>\n",
       "      <td>2.776345e+09</td>\n",
       "      <td>2.351345e+09</td>\n",
       "      <td>0.846921</td>\n",
       "    </tr>\n",
       "    <tr>\n",
       "      <th>1</th>\n",
       "      <td>2</td>\n",
       "      <td>2011</td>\n",
       "      <td>Pirates of the Caribbean: On Stranger Tides</td>\n",
       "      <td>410600000</td>\n",
       "      <td>241063875.0</td>\n",
       "      <td>1.045664e+09</td>\n",
       "      <td>6.350639e+08</td>\n",
       "      <td>0.607331</td>\n",
       "    </tr>\n",
       "    <tr>\n",
       "      <th>2</th>\n",
       "      <td>3</td>\n",
       "      <td>2019</td>\n",
       "      <td>Dark Phoenix</td>\n",
       "      <td>350000000</td>\n",
       "      <td>42762350.0</td>\n",
       "      <td>1.497624e+08</td>\n",
       "      <td>-2.002376e+08</td>\n",
       "      <td>-1.337036</td>\n",
       "    </tr>\n",
       "    <tr>\n",
       "      <th>3</th>\n",
       "      <td>4</td>\n",
       "      <td>2015</td>\n",
       "      <td>Avengers: Age of Ultron</td>\n",
       "      <td>330600000</td>\n",
       "      <td>459005868.0</td>\n",
       "      <td>1.403014e+09</td>\n",
       "      <td>1.072414e+09</td>\n",
       "      <td>0.764364</td>\n",
       "    </tr>\n",
       "    <tr>\n",
       "      <th>4</th>\n",
       "      <td>5</td>\n",
       "      <td>2017</td>\n",
       "      <td>Star Wars Ep. VIII: The Last Jedi</td>\n",
       "      <td>317000000</td>\n",
       "      <td>620181382.0</td>\n",
       "      <td>1.316722e+09</td>\n",
       "      <td>9.997217e+08</td>\n",
       "      <td>0.759251</td>\n",
       "    </tr>\n",
       "    <tr>\n",
       "      <th>...</th>\n",
       "      <td>...</td>\n",
       "      <td>...</td>\n",
       "      <td>...</td>\n",
       "      <td>...</td>\n",
       "      <td>...</td>\n",
       "      <td>...</td>\n",
       "      <td>...</td>\n",
       "      <td>...</td>\n",
       "    </tr>\n",
       "    <tr>\n",
       "      <th>5777</th>\n",
       "      <td>78</td>\n",
       "      <td>2018</td>\n",
       "      <td>Red 11</td>\n",
       "      <td>7000</td>\n",
       "      <td>17225945.0</td>\n",
       "      <td>2.798445e+07</td>\n",
       "      <td>2.797745e+07</td>\n",
       "      <td>0.999750</td>\n",
       "    </tr>\n",
       "    <tr>\n",
       "      <th>5778</th>\n",
       "      <td>79</td>\n",
       "      <td>1999</td>\n",
       "      <td>Following</td>\n",
       "      <td>6000</td>\n",
       "      <td>48482.0</td>\n",
       "      <td>2.404950e+05</td>\n",
       "      <td>2.344950e+05</td>\n",
       "      <td>0.975051</td>\n",
       "    </tr>\n",
       "    <tr>\n",
       "      <th>5779</th>\n",
       "      <td>80</td>\n",
       "      <td>2005</td>\n",
       "      <td>Return to the Land of Wonders</td>\n",
       "      <td>5000</td>\n",
       "      <td>1338.0</td>\n",
       "      <td>1.338000e+03</td>\n",
       "      <td>-3.662000e+03</td>\n",
       "      <td>-2.736921</td>\n",
       "    </tr>\n",
       "    <tr>\n",
       "      <th>5780</th>\n",
       "      <td>81</td>\n",
       "      <td>2015</td>\n",
       "      <td>A Plague So Pleasant</td>\n",
       "      <td>1400</td>\n",
       "      <td>17225945.0</td>\n",
       "      <td>2.798445e+07</td>\n",
       "      <td>2.798305e+07</td>\n",
       "      <td>0.999950</td>\n",
       "    </tr>\n",
       "    <tr>\n",
       "      <th>5781</th>\n",
       "      <td>82</td>\n",
       "      <td>2005</td>\n",
       "      <td>My Date With Drew</td>\n",
       "      <td>1100</td>\n",
       "      <td>181041.0</td>\n",
       "      <td>1.810410e+05</td>\n",
       "      <td>1.799410e+05</td>\n",
       "      <td>0.993924</td>\n",
       "    </tr>\n",
       "  </tbody>\n",
       "</table>\n",
       "<p>5782 rows × 8 columns</p>\n",
       "</div>"
      ],
      "text/plain": [
       "      id  release_date                                        movie  \\\n",
       "0      1          2009                                       Avatar   \n",
       "1      2          2011  Pirates of the Caribbean: On Stranger Tides   \n",
       "2      3          2019                                 Dark Phoenix   \n",
       "3      4          2015                      Avengers: Age of Ultron   \n",
       "4      5          2017            Star Wars Ep. VIII: The Last Jedi   \n",
       "...   ..           ...                                          ...   \n",
       "5777  78          2018                                       Red 11   \n",
       "5778  79          1999                                    Following   \n",
       "5779  80          2005                Return to the Land of Wonders   \n",
       "5780  81          2015                         A Plague So Pleasant   \n",
       "5781  82          2005                            My Date With Drew   \n",
       "\n",
       "      production_budget  domestic_gross  worldwide_gross  production_return  \\\n",
       "0             425000000     760507625.0     2.776345e+09       2.351345e+09   \n",
       "1             410600000     241063875.0     1.045664e+09       6.350639e+08   \n",
       "2             350000000      42762350.0     1.497624e+08      -2.002376e+08   \n",
       "3             330600000     459005868.0     1.403014e+09       1.072414e+09   \n",
       "4             317000000     620181382.0     1.316722e+09       9.997217e+08   \n",
       "...                 ...             ...              ...                ...   \n",
       "5777               7000      17225945.0     2.798445e+07       2.797745e+07   \n",
       "5778               6000         48482.0     2.404950e+05       2.344950e+05   \n",
       "5779               5000          1338.0     1.338000e+03      -3.662000e+03   \n",
       "5780               1400      17225945.0     2.798445e+07       2.798305e+07   \n",
       "5781               1100        181041.0     1.810410e+05       1.799410e+05   \n",
       "\n",
       "      % production_return  \n",
       "0                0.846921  \n",
       "1                0.607331  \n",
       "2               -1.337036  \n",
       "3                0.764364  \n",
       "4                0.759251  \n",
       "...                   ...  \n",
       "5777             0.999750  \n",
       "5778             0.975051  \n",
       "5779            -2.736921  \n",
       "5780             0.999950  \n",
       "5781             0.993924  \n",
       "\n",
       "[5782 rows x 8 columns]"
      ]
     },
     "execution_count": 284,
     "metadata": {},
     "output_type": "execute_result"
    }
   ],
   "source": [
    "tn_movies_budgets"
   ]
  },
  {
   "cell_type": "code",
   "execution_count": 288,
   "metadata": {},
   "outputs": [
    {
     "data": {
      "image/png": "[encoded data removed]",
      "text/plain": [
       "<Figure size 1080x216 with 1 Axes>"
      ]
     },
     "metadata": {
      "needs_background": "light"
     },
     "output_type": "display_data"
    },
    {
     "data": {
      "image/png": "[encoded data removed]",
      "text/plain": [
       "<Figure size 1080x216 with 1 Axes>"
      ]
     },
     "metadata": {
      "needs_background": "light"
     },
     "output_type": "display_data"
    }
   ],
   "source": [
    "# We shall visualise our results by examining the average budget per year\n",
    "yearly_mean_budget = tn_movies_budgets.groupby(by=['release_date'])['production_budget'].mean()\n",
    "\n",
    "fig, ax = plt.subplots(figsize=(15,3))\n",
    "\n",
    "plt.bar(\n",
    "       list(mean_budgets_over_time.keys()), \n",
    "       list(mean_budgets_over_time)\n",
    "       )\n",
    "\n",
    "ax.set_title('Overall Change in budget')\n",
    "ax.set_xlabel('Release_date')\n",
    "ax.set_ylabel('production_budget');\n",
    "\n",
    "\n",
    "# To make the data more recent, we shall focus on the most recent 10 years of data\n",
    "mean_budgets_over_time_bar, ax = plt.subplots(figsize=(15,3))\n",
    "\n",
    "plt.bar(x, y1, color='r')\n",
    "plt.bar(x, y2, bottom=y1, color='b')\n",
    "plt.show()\n",
    "\n",
    "plt.bar(\n",
    "       list(yearly_mean_budget.keys())[-10:], \n",
    "       list(yearly_mean_budget)[-10:]\n",
    "       )\n",
    "\n",
    "ax.set_title('Change in budget over the past 10 years')\n",
    "ax.set_xlabel('Year')\n",
    "ax.set_ylabel('Budget')\n",
    "plt.plot(\n",
    "        list(yearly_mean_budget.keys())[-10:], \n",
    "        list(yearly_mean_budget)[-10:], '-o', color='orange'\n",
    "        );"
   ]
  },
  {
   "cell_type": "code",
   "execution_count": 297,
   "metadata": {},
   "outputs": [
    {
     "data": {
      "image/png": "[encoded data removed]",
      "text/plain": [
       "<Figure size 1080x216 with 1 Axes>"
      ]
     },
     "metadata": {
      "needs_background": "light"
     },
     "output_type": "display_data"
    },
    {
     "data": {
      "image/png": "[encoded data removed]",
      "text/plain": [
       "<Figure size 1080x216 with 1 Axes>"
      ]
     },
     "metadata": {
      "needs_background": "light"
     },
     "output_type": "display_data"
    }
   ],
   "source": [
    "# We shall visualise our results by examining the average budget per year\n",
    "yearly_mean_budget = tn_movies_budgets.groupby(by=['release_date'])['production_budget'].mean()\n",
    "yearly_mean_return = tn_movies_budgets.groupby(by=['release_date'])['production_return'].mean()\n",
    "\n",
    "fig, ax = plt.subplots(figsize=(15,3))\n",
    "\n",
    "plt.bar(\n",
    "       list(mean_budgets_over_time.keys()), \n",
    "       list(mean_budgets_over_time)\n",
    "       )\n",
    "\n",
    "ax.set_title('Overall Change in budget')\n",
    "ax.set_xlabel('Release_date')\n",
    "ax.set_ylabel('production_budget');\n",
    "\n",
    "\n",
    "# To make the data more recent, we shall focus on the most recent 10 years of data\n",
    "mean_budgets_over_time_bar, ax = plt.subplots(figsize=(15,3))\n",
    "\n",
    "plt.bar(\n",
    "       list(yearly_mean_budget.keys())[-10:], \n",
    "       list(yearly_mean_budget)[-10:],\n",
    "       color = 'red',\n",
    "       label = 'mean_budget'\n",
    "       )\n",
    "\n",
    "plt.bar(\n",
    "       list(yearly_mean_return.keys())[-10:], \n",
    "       list(yearly_mean_return)[-10:],\n",
    "       bottom=list(yearly_mean_budget)[-10:],\n",
    "       color = 'b',\n",
    "       label = 'mean_return'\n",
    "       )\n",
    "\n",
    "ax.legend()\n",
    "ax.set_title('Change in budget over the past 10 years')\n",
    "ax.set_xlabel('Year')\n",
    "ax.set_ylabel('Budget')\n",
    "plt.plot(\n",
    "        list(yearly_mean_budget.keys())[-10:], \n",
    "        list(yearly_mean_budget)[-10:], '-o', color='orange'\n",
    "        );"
   ]
  },
  {
   "cell_type": "markdown",
   "metadata": {},
   "source": [
    "### Minutes vs Profit\n",
    ">title.basics**.csv** <br>\n",
    ">tn.movie_budgets**.csv** <br>"
   ]
  },
  {
   "cell_type": "code",
   "execution_count": 37,
   "metadata": {},
   "outputs": [],
   "source": [
    "title_budgets['runtime_minutes'] = title_budgets['runtime_minutes'].fillna(title_budgets['runtime_minutes'].mean())"
   ]
  },
  {
   "cell_type": "code",
   "execution_count": 38,
   "metadata": {
    "scrolled": true
   },
   "outputs": [
    {
     "name": "stdout",
     "output_type": "stream",
     "text": [
      "correlation between runtime_minutes and profit = 0.2519317531484308\n"
     ]
    },
    {
     "data": {
      "image/png": "[encoded data removed]",
      "text/plain": [
       "<Figure size 432x288 with 1 Axes>"
      ]
     },
     "metadata": {
      "needs_background": "light"
     },
     "output_type": "display_data"
    }
   ],
   "source": [
    "minutesprofit = np.vstack([title_budgets['runtime_minutes'],title_budgets['profit']])\n",
    "z = gaussian_kde(minutesprofit)(minutesprofit)\n",
    "\n",
    "minutes_profit_bar, ax = plt.subplots()\n",
    "plt.scatter(\n",
    "            title_budgets['runtime_minutes'], \n",
    "            title_budgets['profit'],\n",
    "            c=z,\n",
    "            s=10\n",
    "            )\n",
    "ax.set_title('Minutes vs Profit')\n",
    "ax.set_xlabel('Minutes')\n",
    "ax.set_ylabel('Profit')\n",
    "\n",
    "minutes_profit_correlation = np.corrcoef(title_budgets['runtime_minutes'], title_budgets['profit'])[1,0]\n",
    "\n",
    "print(f'correlation between runtime_minutes and profit = {minutes_profit_correlation}')"
   ]
  },
  {
   "cell_type": "markdown",
   "metadata": {},
   "source": [
    "### Budgets vs Profit\n",
    ">title.basics**.csv** <br>\n",
    ">tn.movie_budgets**.csv** <br>"
   ]
  },
  {
   "cell_type": "code",
   "execution_count": 39,
   "metadata": {},
   "outputs": [
    {
     "name": "stdout",
     "output_type": "stream",
     "text": [
      "correlation between runtime_minutes and profit = 0.6522781876632836\n"
     ]
    },
    {
     "data": {
      "image/png": "[encoded data removed]",
      "text/plain": [
       "<Figure size 432x288 with 1 Axes>"
      ]
     },
     "metadata": {
      "needs_background": "light"
     },
     "output_type": "display_data"
    }
   ],
   "source": [
    "budgets_vs_profit_bar, ax = plt.subplots()\n",
    "plt.scatter(\n",
    "            title_budgets['production_budget'], \n",
    "            title_budgets['profit'],\n",
    "            )\n",
    "ax.set_title('Budget vs Profit')\n",
    "ax.set_xlabel('Budget')\n",
    "ax.set_ylabel('Profit')\n",
    "\n",
    "z2 = np.polyfit(title_budgets['production_budget'], title_budgets['profit'], 1)\n",
    "p = np.poly1d(z2)\n",
    "plt.plot(title_budgets['production_budget'],p(title_budgets['production_budget']),\"r--\")\n",
    "\n",
    "budget_profit_correlation = np.corrcoef(title_budgets['production_budget'], title_budgets['profit'])[1,0]\n",
    "\n",
    "print(f'correlation between runtime_minutes and profit = {budget_profit_correlation}')"
   ]
  }
 ],
 "metadata": {
  "kernelspec": {
   "display_name": "Python (learn-env)",
   "language": "python",
   "name": "learn-env"
  },
  "language_info": {
   "codemirror_mode": {
    "name": "ipython",
    "version": 3
   },
   "file_extension": ".py",
   "mimetype": "text/x-python",
   "name": "python",
   "nbconvert_exporter": "python",
   "pygments_lexer": "ipython3",
   "version": "3.8.5"
  }
 },
 "nbformat": 4,
 "nbformat_minor": 4
}
